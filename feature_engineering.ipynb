{
 "cells": [
  {
   "cell_type": "markdown",
   "metadata": {},
   "source": [
    "### Packages and Data"
   ]
  },
  {
   "cell_type": "markdown",
   "metadata": {},
   "source": [
    "Important Functions:\n",
    "https://scikit-learn.org/stable/modules/feature_selection.html\n",
    "\n",
    "https://scikit-learn.org/stable/modules/generated/sklearn.linear_model.Lasso.html#sklearn.linear_model.Lasso\n",
    "\n",
    "https://scikit-learn.org/stable/modules/generated/sklearn.linear_model.LinearRegression.html#sklearn.linear_model.LinearRegression\n",
    "\n",
    "https://scikit-learn.org/stable/modules/generated/sklearn.impute.SimpleImputer.html"
   ]
  },
  {
   "cell_type": "code",
   "execution_count": 1,
   "metadata": {},
   "outputs": [],
   "source": [
    "import numpy as np\n",
    "import pandas as pd\n",
    "from sklearn.feature_selection import SelectKBest\n",
    "from sklearn.feature_selection import chi2\n",
    "from sklearn.feature_selection import f_regression\n",
    "from sklearn.feature_selection import mutual_info_regression\n",
    "from sklearn.linear_model import LinearRegression\n",
    "from sklearn.model_selection import train_test_split\n",
    "from sklearn.model_selection import cross_val_score\n",
    "from sklearn import metrics"
   ]
  },
  {
   "cell_type": "code",
   "execution_count": 2,
   "metadata": {},
   "outputs": [],
   "source": [
    "data = pd.read_csv(\"train.csv\")\n",
    "macro = pd.read_csv(\"macro.csv\")"
   ]
  },
  {
   "cell_type": "markdown",
   "metadata": {},
   "source": [
    "### Feature Constraints"
   ]
  },
  {
   "cell_type": "markdown",
   "metadata": {},
   "source": [
    "1. As many rows as possible, don't drop rows unless you have good reason\n",
    "2. No more than 50 features\n",
    "    + At most 10 of those come from macro.csv\n",
    "3. Don't dummify geographic variables\n",
    "    + You can dummify product_type if you want\n",
    "4. Can't include timestamp\n",
    "    + Some macro.csv variables can stand in for these cause they're by day\n",
    "5. You can combine columns from macro.csv and train.csv to make new features\n",
    "6. Can use any packages you want\n",
    "7. All variables will be numeric\n",
    "8. Must be able to explain why you chose all your variables"
   ]
  },
  {
   "cell_type": "markdown",
   "metadata": {},
   "source": [
    "### Data Cleaning"
   ]
  },
  {
   "cell_type": "code",
   "execution_count": 3,
   "metadata": {},
   "outputs": [],
   "source": [
    "# Convert timestamp in both data frames to datetime objects\n",
    "macro['timestamp'] = pd.to_datetime(macro['timestamp'])\n",
    "data['timestamp'] = pd.to_datetime(data['timestamp'])"
   ]
  },
  {
   "cell_type": "markdown",
   "metadata": {},
   "source": [
    "#### Main Training Data"
   ]
  },
  {
   "cell_type": "code",
   "execution_count": 4,
   "metadata": {},
   "outputs": [
    {
     "name": "stderr",
     "output_type": "stream",
     "text": [
      "C:\\Users\\Mason\\AppData\\Local\\Programs\\Python\\Python36-32\\lib\\site-packages\\ipykernel_launcher.py:11: SettingWithCopyWarning: \n",
      "A value is trying to be set on a copy of a slice from a DataFrame.\n",
      "Try using .loc[row_indexer,col_indexer] = value instead\n",
      "\n",
      "See the caveats in the documentation: https://pandas.pydata.org/pandas-docs/stable/user_guide/indexing.html#returning-a-view-versus-a-copy\n",
      "  # This is added back by InteractiveShellApp.init_path()\n"
     ]
    },
    {
     "data": {
      "text/plain": [
       "array([dtype('int64'), dtype('float64'), dtype('int32')], dtype=object)"
      ]
     },
     "execution_count": 4,
     "metadata": {},
     "output_type": "execute_result"
    }
   ],
   "source": [
    "# remove id and timestamp, and remove NA for simplicity\n",
    "data2 = data.drop([\"id\", \"timestamp\"], axis=1).dropna(axis=0)\n",
    "\n",
    "# save this one categorical variable so I can append it later (it only has two levels and we're allowed to use it)\n",
    "prod_type = data2[\"product_type\"]\n",
    "\n",
    "# extract and save response variable\n",
    "y = data2['price_doc']\n",
    "\n",
    "data_numeric = data2.select_dtypes(exclude=['object'])\n",
    "data_numeric['is_investment'] = np.where(prod_type == 'Investment', 1, 0)\n",
    "X = data_numeric.drop(['price_doc'], axis=1) # remove response variable\n",
    "data_numeric.dtypes.unique() # ensure that all variables are numeric"
   ]
  },
  {
   "cell_type": "markdown",
   "metadata": {},
   "source": [
    "#### Macro data"
   ]
  },
  {
   "cell_type": "markdown",
   "metadata": {},
   "source": [
    "There are only 9 columns in macro that don't have NAs, one being timestamp"
   ]
  },
  {
   "cell_type": "code",
   "execution_count": 5,
   "metadata": {},
   "outputs": [],
   "source": [
    "# only keep numeric columns (this does not remove timestamp)\n",
    "macro_numeric = macro.select_dtypes(exclude=['object'])\n",
    "\n",
    "# list the colums that have less than 90 missing values\n",
    "low_na_cols = list(pd.DataFrame(macro_numeric.isnull().sum(axis=0)).reset_index().sort_values(by=0).iloc[:23, ]['index'])"
   ]
  },
  {
   "cell_type": "code",
   "execution_count": 6,
   "metadata": {},
   "outputs": [],
   "source": [
    "macro2 = pd.merge(macro_numeric[low_na_cols], data[['timestamp', 'price_doc']], how='left', left_on='timestamp', right_on='timestamp').dropna(axis=0).drop(['timestamp'], axis=1)\n",
    "X_macro = macro2.drop('price_doc', axis=1)\n",
    "y_macro = macro2['price_doc']"
   ]
  },
  {
   "cell_type": "markdown",
   "metadata": {},
   "source": [
    "### Feature Selection from Main Training Data"
   ]
  },
  {
   "cell_type": "markdown",
   "metadata": {},
   "source": [
    "#### Choosing Features by Eye"
   ]
  },
  {
   "cell_type": "markdown",
   "metadata": {},
   "source": [
    "1.  Property attributes:\n",
    "    + full_sq\n",
    "    + floor\n",
    "    + build_year\n",
    "    + num_room\n",
    "    + state (condition)\n",
    "\n",
    "2. Neighborhood attributes:\n",
    "    + full_all (population, but there's also raion_popul and idk the difference)\n",
    "    + work_all (working age population)\n",
    "    + young_all (lower than working age population)\n",
    "    + green_zone_part (proportion of area that's greenery)\n",
    "    + indust_part (proportion of area that's industrial)\n",
    "    + culture_objects_top_25_raion (number of objects of cultural heritage)\n",
    "    + shopping_center_raion\n",
    "    + oil_chemistry_raion (presence of dirty industries)\n",
    "    + radiation_raion (presence of radiation disposal)\n",
    "    + big_market_raion (presence of large grocery / wholesale markets)\n",
    "    + detention_facility_raion (presence of prison)\n",
    "    + metro_min_walk (walking time to metro)\n",
    "    + park_km (distance to park)\n",
    "    + railroad_station_walk_km (distance to railroad station walking)\n",
    "    + kremlin_km (distance to city center/Kremlin)\n",
    "    "
   ]
  },
  {
   "cell_type": "markdown",
   "metadata": {},
   "source": [
    "#### Using F-Statistics"
   ]
  },
  {
   "cell_type": "markdown",
   "metadata": {},
   "source": [
    "This one computes F statistics for a regression with response vs. each predictor variable one by one, then takes the top 40 most significant of those F-stats"
   ]
  },
  {
   "cell_type": "code",
   "execution_count": 7,
   "metadata": {},
   "outputs": [
    {
     "data": {
      "text/plain": [
       "['full_sq',\n",
       " 'life_sq',\n",
       " 'max_floor',\n",
       " 'num_room',\n",
       " 'kitch_sq',\n",
       " 'ID_metro',\n",
       " 'mkad_km',\n",
       " 'sadovoe_km',\n",
       " 'bulvar_ring_km',\n",
       " 'kremlin_km',\n",
       " 'office_count_500',\n",
       " 'office_count_1000',\n",
       " 'cafe_count_1000_price_high',\n",
       " 'cafe_count_1500_price_high',\n",
       " 'office_sqm_2000',\n",
       " 'cafe_sum_2000_min_price_avg',\n",
       " 'sport_count_2000',\n",
       " 'office_sqm_3000',\n",
       " 'cafe_sum_3000_min_price_avg',\n",
       " 'cafe_sum_3000_max_price_avg',\n",
       " 'cafe_avg_price_3000',\n",
       " 'cafe_count_3000_price_high',\n",
       " 'sport_count_3000',\n",
       " 'office_count_5000',\n",
       " 'office_sqm_5000',\n",
       " 'trc_count_5000',\n",
       " 'cafe_count_5000',\n",
       " 'cafe_sum_5000_min_price_avg',\n",
       " 'cafe_sum_5000_max_price_avg',\n",
       " 'cafe_avg_price_5000',\n",
       " 'cafe_count_5000_na_price',\n",
       " 'cafe_count_5000_price_500',\n",
       " 'cafe_count_5000_price_1000',\n",
       " 'cafe_count_5000_price_1500',\n",
       " 'cafe_count_5000_price_2500',\n",
       " 'cafe_count_5000_price_4000',\n",
       " 'cafe_count_5000_price_high',\n",
       " 'church_count_5000',\n",
       " 'leisure_count_5000',\n",
       " 'sport_count_5000']"
      ]
     },
     "execution_count": 7,
     "metadata": {},
     "output_type": "execute_result"
    }
   ],
   "source": [
    "# Define and fit feature selector\n",
    "F_selector = SelectKBest(f_regression, k=40)\n",
    "F_selector.fit(X, y)\n",
    "\n",
    "# Extract column indices from feature selector\n",
    "F_cols = F_selector.get_support(indices=True)\n",
    "\n",
    "# Get column names of selected columns\n",
    "F_colnames = list(X.iloc[:, F_cols].columns)\n",
    "F_colnames"
   ]
  },
  {
   "cell_type": "markdown",
   "metadata": {},
   "source": [
    "#### Using Mutual Information"
   ]
  },
  {
   "cell_type": "markdown",
   "metadata": {},
   "source": [
    "This one takes a while. It's based on entropy estimation from k-nearest neighbors distances. "
   ]
  },
  {
   "cell_type": "code",
   "execution_count": 8,
   "metadata": {},
   "outputs": [
    {
     "data": {
      "text/plain": [
       "['full_sq',\n",
       " 'life_sq',\n",
       " 'build_year',\n",
       " 'num_room',\n",
       " 'kitch_sq',\n",
       " 'preschool_quota',\n",
       " 'children_school',\n",
       " 'young_all',\n",
       " 'young_male',\n",
       " 'young_female',\n",
       " 'work_male',\n",
       " 'work_female',\n",
       " 'ekder_male',\n",
       " '0_6_male',\n",
       " '7_14_all',\n",
       " '7_14_male',\n",
       " '7_14_female',\n",
       " '0_17_all',\n",
       " '0_17_male',\n",
       " '0_17_female',\n",
       " '0_13_all',\n",
       " '0_13_male',\n",
       " 'raion_build_count_with_material_info',\n",
       " 'build_count_panel',\n",
       " 'raion_build_count_with_builddate_info',\n",
       " 'build_count_1946-1970',\n",
       " 'ID_metro',\n",
       " 'ID_railroad_station_walk',\n",
       " 'ID_railroad_station_avto',\n",
       " 'cafe_count_2000',\n",
       " 'cafe_count_2000_price_2500',\n",
       " 'trc_sqm_3000',\n",
       " 'cafe_count_3000',\n",
       " 'cafe_count_3000_price_1500',\n",
       " 'cafe_count_3000_price_2500',\n",
       " 'office_count_5000',\n",
       " 'office_sqm_5000',\n",
       " 'cafe_count_5000',\n",
       " 'cafe_count_5000_price_1000',\n",
       " 'cafe_count_5000_price_2500']"
      ]
     },
     "execution_count": 8,
     "metadata": {},
     "output_type": "execute_result"
    }
   ],
   "source": [
    "# Define and fit feature selector\n",
    "mi_selector = SelectKBest(mutual_info_regression, k=40)\n",
    "mi_selector.fit(X, y)\n",
    "\n",
    "# Extract column indices from feature selector\n",
    "mi_cols = mi_selector.get_support(indices=True)\n",
    "\n",
    "# Get column names of selected columns\n",
    "mi_colnames = list(X.iloc[:, mi_cols].columns)\n",
    "\n",
    "mi_colnames"
   ]
  },
  {
   "cell_type": "markdown",
   "metadata": {},
   "source": [
    "### Comparing Training Feature Sets"
   ]
  },
  {
   "cell_type": "markdown",
   "metadata": {},
   "source": [
    "**Evaluating Model with Features from F tests**"
   ]
  },
  {
   "cell_type": "code",
   "execution_count": 9,
   "metadata": {},
   "outputs": [
    {
     "name": "stdout",
     "output_type": "stream",
     "text": [
      "===============================================\n",
      "10-fold Cross-Validated R^2: 0.5059986129756255\n",
      "===============================================\n"
     ]
    }
   ],
   "source": [
    "# Define the X matrix for this model\n",
    "X_F = X.iloc[:, F_cols]\n",
    "\n",
    "# Define the model\n",
    "F_model = LinearRegression()\n",
    "\n",
    "# Get 10 R^2 values from a 10-fold cross-validation\n",
    "F_R_sqs = cross_val_score(\n",
    "    F_model, X_F, y, cv=10, scoring='r2')\n",
    "\n",
    "F_R_sq_mean = F_R_sqs.mean()\n",
    "\n",
    "print(\"=\" * (29 + len(str(F_R_sq_mean))))\n",
    "print(\"10-fold Cross-Validated R^2: {}\".format(F_R_sq_mean))\n",
    "print(\"=\" * (29 + len(str(F_R_sq_mean))))"
   ]
  },
  {
   "cell_type": "markdown",
   "metadata": {},
   "source": [
    "**Evaluating Model with Features from Mutual Information**"
   ]
  },
  {
   "cell_type": "code",
   "execution_count": 10,
   "metadata": {},
   "outputs": [
    {
     "name": "stdout",
     "output_type": "stream",
     "text": [
      "==============================================\n",
      "10-fold Cross-Validated R^2: 0.503848832181219\n",
      "==============================================\n"
     ]
    }
   ],
   "source": [
    "# Define the X matrix for this model\n",
    "X_mi = X.iloc[:, mi_cols]\n",
    "\n",
    "# Define the model\n",
    "mi_model = LinearRegression()\n",
    "\n",
    "# Get 10 R^2 values from a 10-fold cross-validation\n",
    "mi_R_sqs = cross_val_score(\n",
    "    mi_model, X_mi, y, cv=10, scoring='r2')\n",
    "\n",
    "mi_R_sq_mean = mi_R_sqs[1:].mean() # The first value gets really messed up so I skipped it\n",
    "\n",
    "print(\"=\" * (29 + len(str(mi_R_sq_mean))))\n",
    "print(\"10-fold Cross-Validated R^2: {}\".format(mi_R_sq_mean))\n",
    "print(\"=\" * (29 + len(str(mi_R_sq_mean))))"
   ]
  },
  {
   "cell_type": "markdown",
   "metadata": {},
   "source": [
    "### Feature Selection from Macro Data"
   ]
  },
  {
   "cell_type": "markdown",
   "metadata": {},
   "source": [
    "#### Choosing Features by Eye"
   ]
  },
  {
   "cell_type": "markdown",
   "metadata": {},
   "source": [
    "+ oil_urals: Crude Oil Urals ($ / bbl)\n",
    "+ gdp_quart: GDP\n",
    "+ gdp_quart_growth: Real GDP growth\n",
    "+ cpi: Inflation - Consumer Price Index Growth\n",
    "+ usdrub: Ruble/USD exchange rate\n",
    "+ deposits_rate: Average interest rate on deposits\n",
    "+ mortgage_value: Volume of mortgage loans\n",
    "+ income_per_cap: Average income per capita \n",
    "+ unemployment: Unemployment rate\n",
    "+ invest_fixed_capital_per_cap: Investments in fixed capital per capita"
   ]
  },
  {
   "cell_type": "markdown",
   "metadata": {},
   "source": [
    "#### Using F-Statistics"
   ]
  },
  {
   "cell_type": "code",
   "execution_count": 11,
   "metadata": {},
   "outputs": [
    {
     "data": {
      "text/plain": [
       "['fixed_basket',\n",
       " 'deposits_value',\n",
       " 'gdp_annual',\n",
       " 'gdp_annual_growth',\n",
       " 'usdrub',\n",
       " 'eurrub',\n",
       " 'rts',\n",
       " 'micex_rgbi_tr',\n",
       " 'cpi',\n",
       " 'ppi']"
      ]
     },
     "execution_count": 11,
     "metadata": {},
     "output_type": "execute_result"
    }
   ],
   "source": [
    "# Define and fit feature selector\n",
    "F_selector_m = SelectKBest(f_regression, k=10)\n",
    "F_selector_m.fit(X_macro, y_macro)\n",
    "\n",
    "# Extract column indices from feature selector\n",
    "F_cols_m = F_selector_m.get_support(indices=True)\n",
    "\n",
    "# Get column names of selected columns\n",
    "F_colnames_m = list(X_macro.iloc[:, F_cols_m].columns)\n",
    "F_colnames_m"
   ]
  },
  {
   "cell_type": "markdown",
   "metadata": {},
   "source": [
    "#### Using Mutual Information"
   ]
  },
  {
   "cell_type": "code",
   "execution_count": 12,
   "metadata": {},
   "outputs": [
    {
     "data": {
      "text/plain": [
       "['oil_urals',\n",
       " 'mortgage_value',\n",
       " 'deposits_value',\n",
       " 'average_provision_of_build_contract',\n",
       " 'cpi',\n",
       " 'ppi',\n",
       " 'deposits_growth',\n",
       " 'balance_trade_growth',\n",
       " 'gdp_quart',\n",
       " 'gdp_quart_growth']"
      ]
     },
     "execution_count": 12,
     "metadata": {},
     "output_type": "execute_result"
    }
   ],
   "source": [
    "# Define and fit feature selector\n",
    "mi_selector_m = SelectKBest(mutual_info_regression, k=10)\n",
    "mi_selector_m.fit(X_macro, y_macro)\n",
    "\n",
    "# Extract column indices from feature selector\n",
    "mi_cols_m = mi_selector_m.get_support(indices=True)\n",
    "\n",
    "# Get column names of selected columns\n",
    "mi_colnames_m = list(X_macro.iloc[:, mi_cols_m].columns)\n",
    "mi_colnames_m"
   ]
  },
  {
   "cell_type": "markdown",
   "metadata": {},
   "source": [
    "### Comparing Macro Feature Sets"
   ]
  },
  {
   "cell_type": "markdown",
   "metadata": {},
   "source": [
    "**Evaluating Model with Features from F tests**"
   ]
  },
  {
   "cell_type": "code",
   "execution_count": 13,
   "metadata": {},
   "outputs": [
    {
     "name": "stdout",
     "output_type": "stream",
     "text": [
      "================================================\n",
      "10-fold Cross-Validated R^2: -0.0093914444244658\n",
      "================================================\n"
     ]
    }
   ],
   "source": [
    "# Define the X matrix for this model\n",
    "X_F_m = X_macro[F_colnames_m]\n",
    "\n",
    "# Define the model\n",
    "F_model_m = LinearRegression()\n",
    "\n",
    "# Get 10 R^2 values from a 10-fold cross-validation\n",
    "F_R_sqs_m = cross_val_score(\n",
    "    F_model_m, X_F_m, y_macro, cv=10, scoring='r2')\n",
    "\n",
    "F_R_sq_mean_m = F_R_sqs_m.mean()\n",
    "\n",
    "print(\"=\" * (29 + len(str(F_R_sq_mean_m))))\n",
    "print(\"10-fold Cross-Validated R^2: {}\".format(F_R_sq_mean_m))\n",
    "print(\"=\" * (29 + len(str(F_R_sq_mean_m))))"
   ]
  },
  {
   "cell_type": "markdown",
   "metadata": {},
   "source": [
    "**Evaluating Model with Features from Mutual Information**"
   ]
  },
  {
   "cell_type": "code",
   "execution_count": 14,
   "metadata": {},
   "outputs": [
    {
     "name": "stdout",
     "output_type": "stream",
     "text": [
      "==================================================\n",
      "10-fold Cross-Validated R^2: -0.008642195862967906\n",
      "==================================================\n"
     ]
    }
   ],
   "source": [
    "# Define the X matrix for this model\n",
    "X_mi_m = X_macro[mi_colnames_m]\n",
    "\n",
    "# Define the model\n",
    "mi_model_m = LinearRegression()\n",
    "\n",
    "# Get 10 R^2 values from a 10-fold cross-validation\n",
    "mi_R_sqs_m = cross_val_score(\n",
    "    mi_model_m, X_mi_m, y_macro, cv=10, scoring='r2')\n",
    "\n",
    "mi_R_sq_mean_m = mi_R_sqs_m.mean() # The first value gets really messed up so I skipped it\n",
    "\n",
    "print(\"=\" * (29 + len(str(mi_R_sq_mean_m))))\n",
    "print(\"10-fold Cross-Validated R^2: {}\".format(mi_R_sq_mean_m))\n",
    "print(\"=\" * (29 + len(str(mi_R_sq_mean_m))))"
   ]
  }
 ],
 "metadata": {
  "kernelspec": {
   "display_name": "Python 3",
   "language": "python",
   "name": "python3"
  },
  "language_info": {
   "codemirror_mode": {
    "name": "ipython",
    "version": 3
   },
   "file_extension": ".py",
   "mimetype": "text/x-python",
   "name": "python",
   "nbconvert_exporter": "python",
   "pygments_lexer": "ipython3",
   "version": "3.7.1"
  }
 },
 "nbformat": 4,
 "nbformat_minor": 4
}
