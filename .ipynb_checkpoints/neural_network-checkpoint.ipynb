{
 "cells": [
  {
   "cell_type": "markdown",
   "metadata": {},
   "source": [
    "**Things to Implement:**\n",
    "1. ~~weight initialization methods~~\n",
    "2. Validation set for hyperparameter tuning\n",
    "    + Hyperparameters:\n",
    "        + depth\n",
    "        + width\n",
    "        + learning rate $\\eta$\n",
    "        + batch size $B$\n",
    "        + convergence criteria\n",
    "3. ~~Making sure input data is zero-centered with normalized variance~~\n",
    "     + ~~Maybe normalize the response variable as well~~\n",
    "4. Momentum in stochastic gradient descent\n",
    "5. Annealing (decaying) learning rate\n",
    "    + ~~multiply by a constant on every iteration~~\n",
    "    + or reduce it when the validation loss isn't decreasing any more.\n",
    "6. Stopping Criterion\n",
    "    + based on average batch loss?\n",
    "7. Weight regularization\n",
    "    + to control overfitting"
   ]
  },
  {
   "cell_type": "markdown",
   "metadata": {
    "collapsed": "true"
   },
   "source": [
    "### Packages"
   ]
  },
  {
   "cell_type": "code",
   "execution_count": 1,
   "metadata": {
    "collapsed": true,
    "jupyter": {
     "outputs_hidden": true
    }
   },
   "outputs": [],
   "source": [
    "import numpy as np\n",
    "import pandas as pd\n",
    "import matplotlib.pyplot as plt\n",
    "import random\n",
    "from sklearn.model_selection import train_test_split\n",
    "from sklearn.preprocessing import StandardScaler"
   ]
  },
  {
   "cell_type": "markdown",
   "metadata": {},
   "source": [
    "### Defining Layers"
   ]
  },
  {
   "cell_type": "markdown",
   "metadata": {},
   "source": [
    "**Types of Layers:**\n",
    "1. Loss layer (final layer, outputs a single value)\n",
    "2. Output layer (outputs a Bx1 vector)\n",
    "3. Activation layer (activation function sigma applied to hidden layer)\n",
    "4. Hidden layer"
   ]
  },
  {
   "cell_type": "code",
   "execution_count": 3,
   "metadata": {},
   "outputs": [],
   "source": [
    "# then if it's first iteration just set it to the weight gradient\n",
    "class LossLayer:\n",
    "    def __init__(self, avg_loss=None, y_vec=None):\n",
    "        self.avg_loss = None\n",
    "        self.y_vec = y_vec\n",
    "        \n",
    "    def __repr__(self):\n",
    "        return '{layer type: Loss, average loss: ' +  (str(self.avg_loss) if self.avg_loss is not None else \"None\") +  ', true y values shape: ' + (str(self.y_vec.shape) if self.y_vec is not None else \"None\") + '}'\n",
    "    \n",
    "    def __str__(self):\n",
    "        return repr(self)\n",
    "    \n",
    "    \n",
    "class OutputLayer:\n",
    "    def __init__(self, array=None, weights=None, velocity=None):\n",
    "        self.array = array\n",
    "        self.weights = weights\n",
    "        self.velocity = velocity\n",
    "        \n",
    "    def __repr__(self):\n",
    "        return '{layer type: Output, output array shape: ' +  (str(self.array.shape) if self.array is not None else \"None\") + ', weights shape: ' + (str(self.weights.shape) if self.weights is not None else \"None\") + '}'\n",
    "    \n",
    "    def __str__(self):\n",
    "        return repr(self)\n",
    "    \n",
    "\n",
    "class ActivationLayer:\n",
    "    def __init__(self, array=None):\n",
    "        self.array = array\n",
    "        \n",
    "    def __repr__(self):\n",
    "        return '{layer type: Activation, output array shape: ' + (str(self.array.shape) if self.array is not None else \"None\") + '}'\n",
    "    def __str__(self):\n",
    "        return repr(self)\n",
    "    \n",
    "    \n",
    "class HiddenLayer:\n",
    "    def __init__(self, array=None, weights=None, velocity=None):\n",
    "        self.array = array\n",
    "        self.weights = weights\n",
    "        self.velocity=None\n",
    "        \n",
    "    def __repr__(self):\n",
    "        return '{layer type: Hidden, output array shape: ' + (str(self.array.shape) if self.array is not None else \"None\") + ', weights shape: ' + (str(self.weights.shape) if self.weights is not None else \"None\") + '}'"
   ]
  },
  {
   "cell_type": "markdown",
   "metadata": {},
   "source": [
    "### Implementing Network"
   ]
  },
  {
   "cell_type": "code",
   "execution_count": 167,
   "metadata": {},
   "outputs": [],
   "source": [
    "class NeuralNetwork:\n",
    "    def __init__(self, depth, width, batch_size = 128, learning_rate_init = 0.0001, convergence_criteria = 0.001, max_num_iterations = 1000, momentum=1, activation = \"relu\", lambda_rate = 1, weight_initialization = 'He'):\n",
    "        self.depth = depth\n",
    "        self.width = width\n",
    "        self.B = batch_size\n",
    "        self.learning_rate_init = learning_rate_init\n",
    "        self.conv_crit = convergence_criteria\n",
    "        self.max_num_iterations = max_num_iterations\n",
    "        self.momentum = momentum\n",
    "        self.activation_function = {'relu': self.__ReLU, 'leaky relu': self.__leaky_ReLU, 'tanh': self.__tanh, 'sigmoid': self.__sigmoid}[activation] # did I just crack the case of the case/switch in python????\n",
    "        self.deriv_activation_function = {'relu': self.__ReLU_derivative, 'leaky relu': self.__leaky_ReLU_derivative, 'tanh': self.__tanh_derivative, 'sigmoid': self.__sigmoid_derivative}[activation]\n",
    "        self.lambda_rate = lambda_rate\n",
    "        self.weight_initialization = weight_initialization\n",
    "        self.layers = []\n",
    "        self.num_parameters = 0\n",
    "        self.losses = []\n",
    "        self.rmses = []\n",
    "        self.train_stats = [[\"=\" * 38 + '{}', \"\"],\n",
    "                            [\"Number of trainable parameters: {}\", None],\n",
    "                            [\"Number of epochs until convergence: {}\", None],\n",
    "                            [\"Training average batch loss: {}\", None],\n",
    "                            [\"Training RMSE: {}\", None],\n",
    "                            [\"Standard deviation of y_train: {}\", None],\n",
    "                            [\"=\" * 38 + '{}', \"\"]]\n",
    "\n",
    "        # Initializing the layers in the network\n",
    "        \n",
    "        # I don't know the weight dimensions yet so I can't define the first hidden layer's weights. \n",
    "        self.layers.append(HiddenLayer())\n",
    "        self.layers.append(ActivationLayer())\n",
    "        \n",
    "        for i in range(1, self.depth): # skip the first hidden layer because its weights' shape depends on number of input columns\n",
    "            \n",
    "            # create hidden layer with weight dimensions (width + 1) x width using He weight initialization method\n",
    "            self.layers.append(HiddenLayer(weights = self.__initialize_weights(shape=(self.width + 1, self.width), method=self.weight_initialization)))\n",
    "            \n",
    "            # create activatin layer\n",
    "            self.layers.append(ActivationLayer())\n",
    "            \n",
    "            # update number of parameters\n",
    "            self.num_parameters += (self.width + 1) * self.width\n",
    "            \n",
    "            \n",
    "            \n",
    "        # make an output layer that creates a scalar with its weights\n",
    "        z_layer = OutputLayer(weights=self.__initialize_weights(shape=(self.width + 1, 1), method=self.weight_initialization))\n",
    "        self.num_parameters += (self.width + 1) * 1\n",
    "        self.layers.append(z_layer)\n",
    "\n",
    "        # make a loss layer\n",
    "        loss_layer = LossLayer()\n",
    "        self.layers.append(loss_layer)\n",
    "        \n",
    "    #----------Basic Object Functions----------#\n",
    "    \n",
    "    def __repr__(self):\n",
    "        return '[' + '\\n'.join([str(layer) for layer in self.layers]) + ']'\n",
    "\n",
    "    \n",
    "    def __str__(self):\n",
    "        return repr(self)\n",
    "        \n",
    "    #----------Activation Functions and Their Derivatives----------#\n",
    "    \n",
    "    def __ReLU(self, vec):\n",
    "        return np.where(vec <= 0, 0, vec)\n",
    "\n",
    "\n",
    "    def __ReLU_derivative(self, vec):\n",
    "        return np.where(vec <= 0, 0, 1)\n",
    "\n",
    "\n",
    "    def __leaky_ReLU(self, vec):\n",
    "        return np.where(vec <= 0, 0.1 * vec, vec)\n",
    "\n",
    "\n",
    "    def __leaky_ReLU_derivative(self, vec):\n",
    "        return np.where(vec <= 0, 0.1, 1)\n",
    "    \n",
    "    \n",
    "    def __tanh(self, vec):\n",
    "        return (2 * self.__sigmoid(vec)) - 1\n",
    "\n",
    "    \n",
    "    def __tanh_derivative(self, vec):\n",
    "        return 1 - np.power(self.__tanh(vec), 2)\n",
    "\n",
    "\n",
    "    def __sigmoid(self, vec):\n",
    "        return np.where(vec < 0, 1 - (1 / (1 + np.exp(vec))), 1 / (1 + np.exp(-1 * vec)))\n",
    "\n",
    "    \n",
    "    def __sigmoid_derivative(self, vec):\n",
    "        return self.__sigmoid(vec) * (1 - self.__sigmoid(vec))\n",
    "    \n",
    "    \n",
    "    #----------Model Evaluation Functions----------#\n",
    "    \n",
    "    def __loss(self, num, y):\n",
    "        return (1/2) * np.power(num - y, 2)\n",
    "\n",
    "    \n",
    "    def __average_batch_loss(self, vec, y):\n",
    "        B = vec.shape[0]\n",
    "        losses = self.__loss(vec.reshape(B,), y)\n",
    "        return (1 / B) * losses.sum()\n",
    "            \n",
    "        \n",
    "    def __rmse(self, y, y_hat):\n",
    "        return np.sqrt(np.power(y - y_hat, 2).sum() / y.shape[0])\n",
    "        \n",
    "\n",
    "    def __forward_pass(self, X_batch, y_vec):\n",
    "\n",
    "        # Append column of 1s to end of this batch, to hide bias term\n",
    "        X_w_bias = np.concatenate([X_batch, np.ones(shape=(self.B, 1))], axis=1)\n",
    "        \n",
    "        i = 0\n",
    "\n",
    "        # first apply weights to input layer and save result in first hidden layer\n",
    "        self.layers[i].array = X_w_bias.dot(self.layers[i].weights)\n",
    "\n",
    "        i += 1\n",
    "\n",
    "        while i < len(self.layers):\n",
    "            if isinstance(self.layers[i], LossLayer):  # if this is a LossLayer:\n",
    "                # then apply loss function to B x 1 vector to get 1 x 1 average loss over this batch\n",
    "                avg_loss = self.__average_batch_loss(self.layers[i - 1].array, y_vec)\n",
    "                rmse = self.__rmse(self.layers[i - 1].array, y_vec)\n",
    "                self.layers[i].avg_loss = avg_loss\n",
    "                self.losses.append(avg_loss)\n",
    "                self.rmses.append(rmse)\n",
    "                self.layers[i].y_vec = y_vec\n",
    "            elif isinstance(self.layers[i], ActivationLayer):  # if this is an activation layer\n",
    "                # then apply activation function to previous layer and save result\n",
    "                self.layers[i].array = self.activation_function(self.layers[i - 1].array)\n",
    "            else:  # if this is a Hidden Layer of an Output Layer:\n",
    "                # add bias column, then apply this layer's weights to the previous layer and save result in current layer\n",
    "                input_w_bias = np.concatenate([self.layers[i - 1].array, np.ones(shape=(self.B, 1))], axis=1)\n",
    "                self.layers[i].array = input_w_bias.dot(self.layers[i].weights)\n",
    "\n",
    "\n",
    "            i += 1\n",
    "\n",
    "    #----------Stochastic Gradient Descent Functions----------#\n",
    "    \n",
    "    def __initialize_weights(self, shape, method = \"Common\"):\n",
    "        # replace self.B with n_i where n_i is # of elements in array being passed\n",
    "        if method == \"Common\":\n",
    "            wt = np.random.uniform((-1 / np.sqrt(shape[0] - 1)), (1 / np.sqrt(shape[0] - 1)), size=(shape[0] - 1, shape[1]))\n",
    "        else:\n",
    "            wt = np.random.normal(loc=0, scale=np.sqrt(2 / shape[0]), size=(shape[0] - 1, shape[1]))\n",
    "            \n",
    "        zeros = np.zeros((1, shape[1]))\n",
    "        return np.concatenate([wt, zeros], axis=0)\n",
    "        \n",
    "        \n",
    "    def __get_batch(self, X, y):\n",
    "        indices = np.random.randint(X.shape[0], size=self.B)\n",
    "        return X[indices, :], y[indices]\n",
    "    \n",
    "            \n",
    "    def __backward_pass(self, X_batch, learning_rate):\n",
    "        X_w_bias = np.concatenate([X_batch, np.ones(shape=(self.B, 1))], axis=1)\n",
    "\n",
    "        i = len(self.layers) - 1  # start at the loss layer\n",
    "\n",
    "        while i > 0:  # while we still have layers to traverse through backwards that aren't the first hidden layer\n",
    "            if isinstance(self.layers[i], LossLayer):  # if this is a loss layer:\n",
    "                input_x_vec = self.layers[i - 1].array  # get the x values that were inputted to this loss function\n",
    "                J = input_x_vec - self.layers[i].y_vec.reshape(self.B, 1)  # the derivative of our loss function is just x - y\n",
    "            elif isinstance(self.layers[i], ActivationLayer):  # if this is an activation layer:\n",
    "                J_update = self.deriv_activation_function(self.layers[i - 1].array)  # calcluate derivative (of ReLU) of every value that was inputted to this layer\n",
    "                J = J * J_update  # update J with these values\n",
    "            else:  # if this is a hidden layer or output layer (anything that has weights)\n",
    "                # append bias vector to the array that was inputted to this layer:\n",
    "                input_w_bias = np.concatenate([self.layers[i - 1].array, np.ones(shape=(self.B, 1))], axis=1)\n",
    "\n",
    "                weight_update = np.transpose(input_w_bias).dot(J)  # calculate the weight update by doing xT * J\n",
    "                J = J.dot(np.transpose(self.layers[i].weights[:-1, :]))  # Update the Jacobian by doing J * wT\n",
    "\n",
    "                self.layers[i].weights = self.layers[i].weights - (learning_rate * weight_update)  # apply the weight update, multiplying by learning rate first\n",
    "            i -= 1\n",
    "\n",
    "        # now we update the weights of the very first hidden layer (it has special weight dimensions)\n",
    "        # so i = 0\n",
    "\n",
    "        weight_update = np.transpose(X_w_bias).dot(J)\n",
    "\n",
    "        self.layers[i].weights = self.layers[i].weights - (learning_rate * weight_update)  # apply the weight update, multiplying by learning rate first\n",
    "        \n",
    "        \n",
    "    def __backward_pass_momentum(self, X_batch, learning_rate):\n",
    "        \n",
    "        # velocity needs to get initialized somewhere here???\n",
    "        \n",
    "        X_w_bias = np.concatenate([X_batch, np.ones(shape=(self.B, 1))], axis=1)\n",
    "        \n",
    "        i = len(self.layers) - 1  # start at the loss layer\n",
    "        \n",
    "        while i > 0:  # while we still have layers to traverse through backwards that aren't the first hidden layer\n",
    "            if isinstance(self.layers[i], LossLayer):  # if this is a loss layer:\n",
    "                input_x_vec = self.layers[i - 1].array  # get the x values that were inputted to this loss function\n",
    "                J = input_x_vec - self.layers[i].y_vec.reshape(self.B, 1)  # the derivative of our loss function is just x - y\n",
    "            elif isinstance(self.layers[i], ActivationLayer):  # if this is an activation layer:\n",
    "                J_update = self.deriv_activation_function(self.layers[i - 1].array)  # calcluate derivative (of ReLU) of every value that was inputted to this layer\n",
    "                J = J * J_update  # update J with these values\n",
    "            else:  # if this is a hidden layer or output layer (anything that has weights)\n",
    "                # append bias vector to the array that was inputted to this layer\n",
    "                input_w_bias = np.concatenate([self.layers[i - 1].array, np.ones(shape=(self.B, 1))], axis=1)\n",
    "                \n",
    "                if self.layers[i].velocity is None: # if this is the very first backward pass so this layer doesn't have a velocity matrix\n",
    "                    # then initialize it to the gradient times learning rate\n",
    "                    self.layers[i].velocity = - (learning_rate * np.transpose(input_w_bias).dot(J))\n",
    "                else: # if this isn't the first backward pass so this layer has a velocity\n",
    "                    # calculate velocity update by doing multiplying previous velocity by momentun, then subtracting off the learning rate * weight update\n",
    "                    self.layers[i].velocity = (self.momentum * self.layers[i].velocity) - (learning_rate * np.transpose(input_w_bias).dot(J))\n",
    "                \n",
    "                J = J.dot(np.transpose(self.layers[i].weights[:-1, :]))  # Update the Jacobian by doing J * wT\n",
    "\n",
    "                self.layers[i].weights += self.layers[i].velocity  # apply the weight update, multiplying by learning rate first\n",
    "            i -= 1\n",
    "\n",
    "        # now we update the weights of the very first hidden layer (it has special weight dimensions)\n",
    "        # so i = 0\n",
    "\n",
    "        weight_update = np.transpose(X_w_bias).dot(J)\n",
    "\n",
    "        self.layers[i].weights = self.layers[i].weights - (learning_rate * weight_update)  # apply the weight update, multiplying by learning rate first\n",
    "    \n",
    "        \n",
    "    def fit(self, X, y):\n",
    "        \n",
    "        # initialize the first hidden layer's weights now that I know what the input dimensions are\n",
    "        self.layers[0].weights=self.__initialize_weights(shape=(X.shape[1] + 1, self.width), method=self.weight_initialization)\n",
    "        self.num_parameters += (X.shape[1] + 1) * self.width\n",
    "        \n",
    "        current_lr = self.learning_rate_init\n",
    "        \n",
    "        current_loss = float('inf') # initialize loss to infinity\n",
    "        \n",
    "        i = 0\n",
    "        converged = False\n",
    "        \n",
    "        while not converged:\n",
    "            this_X, this_y = self.__get_batch(X, y)\n",
    "            self.__forward_pass(this_X, this_y)\n",
    "            self.__backward_pass_momentum(this_X, current_lr)\n",
    "            \n",
    "            if (i % 50 == 0) and (i > 0): # if the iteration number is a multiple of 50:\n",
    "                #print('i = {}, using lr = {}'.format(i, current_lr))\n",
    "                loss_diff = current_loss - self.losses[-1] # calculate change in loss (old - new)\n",
    "                #print('loss_diff = {}'.format(loss_diff))\n",
    "                converged = (loss_diff > 0) and (loss_diff < self.conv_crit) # check if our loss improved and improvement is less than criteria\n",
    "                #print('converged = {}'.format(converged))\n",
    "                current_loss = self.losses[-1] # update current loss\n",
    "                #print('-' * 40)\n",
    "                \n",
    "                \n",
    "            if (self.lambda_rate != 1) and (i % 30 == 0) and (i > 0) and (self.losses[i] >= self.losses[i - 10]): # every 10 iterations, if the loss hasn't decreased in the past 10 iterations\n",
    "                current_lr = self.lambda_rate * current_lr # then decrease the learning rate\n",
    "                \n",
    "            i += 1\n",
    "            \n",
    "            if i > self.max_num_iterations: # if we have surpassed the maximum number of iterations\n",
    "                converged = True # then stop\n",
    "            \n",
    "        full_preds = self.predict(X)\n",
    "        \n",
    "        final_loss = self.__average_batch_loss(full_preds, y)\n",
    "        final_rmse = self.__rmse(y, full_preds)\n",
    "        \n",
    "        # save the stats in case they are asked to be printed out later.\n",
    "        self.train_stats[1][1] = self.num_parameters\n",
    "        self.train_stats[2][1] = len(self.losses)\n",
    "        self.train_stats[3][1] = round(final_loss, 5)\n",
    "        self.train_stats[4][1] = round(final_rmse, 5)\n",
    "        self.train_stats[5][1] = round(y.std(), 5)\n",
    "        \n",
    "        \n",
    "    def train_loss(self):\n",
    "        return self.train_stats[2][1]\n",
    "    \n",
    "    def train_rmse(self):\n",
    "        return self.train_stats[3][1]\n",
    "    \n",
    "    def train_metrics(self, rmse_curve=False):\n",
    "        print(\"\\n\".join([item[0].format(item[1]) for item in self.train_stats]))\n",
    "        \n",
    "        plt.plot(range(len(self.losses)), self.losses)\n",
    "        plt.title(\"Batch Loss for batch size {}, learning rate {}\".format(self.B, self.learning_rate_init))\n",
    "        plt.xlabel(\"Epoch\")\n",
    "        plt.ylabel(\"Average Batch Loss\")\n",
    "        plt.show()\n",
    "        \n",
    "        if rmse_curve:\n",
    "            plt.plot(range(len(self.rmses)), self.rmses)\n",
    "            plt.title(\"Batch RMSE for batch size {}, learning rate {}\".format(self.B, self.learning_rate_init))\n",
    "            plt.xlabel(\"Epoch\")\n",
    "            plt.ylabel(\"Batch RMSE\")\n",
    "            plt.show()\n",
    "        \n",
    "        \n",
    "    def predict(self, X):\n",
    "        # Append column of 1s to end of this data, to hide bias term\n",
    "        this_B = X.shape[0]\n",
    "        current_array = np.concatenate([X, np.ones(shape=(this_B, 1))], axis=1)\n",
    "        i = 0\n",
    "\n",
    "        # first apply weights to input layer and save result in first hidden layer\n",
    "        current_array = current_array.dot(self.layers[i].weights)\n",
    "\n",
    "        i += 1\n",
    "\n",
    "        while i < (len(self.layers) - 1): # minus one to avoid hitting the loss layer\n",
    "            if isinstance(self.layers[i], ActivationLayer):  # if this is an activation layer\n",
    "                # then apply activation function to previous result\n",
    "                current_array = self.activation_function(current_array)\n",
    "            else:  # if this is a Hidden Layer of an Output Layer:\n",
    "                # add bias column, then apply this layer's weights to the previous layer and save result in current layer\n",
    "                current_array = np.concatenate([current_array, np.ones(shape=(this_B, 1))], axis=1)\n",
    "                current_array = current_array.dot(self.layers[i].weights)\n",
    "\n",
    "\n",
    "            i += 1\n",
    "            \n",
    "        return current_array.reshape(this_B, )\n",
    "    \n",
    "    \n",
    "    \n",
    "    def validate(self, X_val, y_val):\n",
    "        preds = self.predict(X_val)\n",
    "        \n",
    "        print(\"=\" * 38)\n",
    "        print(\"Validation average batch loss: {:.5f}\".format(self.__average_batch_loss(preds, y_val)))\n",
    "        print(\"Validation RMSE: {:.5f}\".format(self.__rmse(y_val, preds)))\n",
    "        print(\"Standard deviation of y_val: {:.5f}\".format(y_val.std()))\n",
    "        print(\"=\" * 38)"
   ]
  },
  {
   "cell_type": "code",
   "execution_count": 168,
   "metadata": {},
   "outputs": [
    {
     "name": "stdout",
     "output_type": "stream",
     "text": [
      "======================================\n",
      "Number of trainable parameters: 81\n",
      "Number of epochs until convergence: 351\n",
      "Training average batch loss: 0.0496\n",
      "Training RMSE: 0.31497\n",
      "Standard deviation of y_train: 1.80837\n",
      "======================================\n"
     ]
    },
    {
     "data": {
      "image/png": "[encoded data removed]",
      "text/plain": [
       "<Figure size 432x288 with 1 Axes>"
      ]
     },
     "metadata": {
      "needs_background": "light"
     },
     "output_type": "display_data"
    }
   ],
   "source": [
    "net = NeuralNetwork(depth=3, width=5,\n",
    "                    batch_size = 128,\n",
    "                    learning_rate_init = 0.000001,\n",
    "                    convergence_criteria = 0.005,\n",
    "                    max_num_iterations = 1000,\n",
    "                    momentum=0.9,\n",
    "                    activation = \"leaky relu\",\n",
    "                    lambda_rate = 1,\n",
    "                    weight_initialization = 'He')\n",
    "\n",
    "net.fit(X, y)\n",
    "net.train_metrics()"
   ]
  },
  {
   "cell_type": "markdown",
   "metadata": {},
   "source": [
    "### Trying the Training Process"
   ]
  },
  {
   "cell_type": "markdown",
   "metadata": {
    "collapsed": "true"
   },
   "source": [
    "#### Creating 2000 rows of data"
   ]
  },
  {
   "cell_type": "code",
   "execution_count": 19,
   "metadata": {},
   "outputs": [],
   "source": [
    "# number of rows to create\n",
    "nrows = 2000\n",
    "\n",
    "# define x features\n",
    "x1 = np.random.normal(loc=5, scale=2, size=nrows) # generate 40 values from Normal(5, 2)\n",
    "x2 = np.random.normal(loc=10, scale=2, size=nrows) # generate 40 values from Normal(10, 2)\n",
    "\n",
    "# define coeffients to use for linear combination\n",
    "beta_0 = 3\n",
    "beta_1 = 0.5\n",
    "beta_2 = 0.75\n",
    "\n",
    "# Define X and y\n",
    "X = np.concatenate([x1.reshape(nrows, 1), x2.reshape(nrows, 1)], axis=1)\n",
    "y = beta_0 + (beta_1 * X[:, 0]) + (beta_2 * X[:, 1])  # make a linear combination of x1 and x2 to be y"
   ]
  },
  {
   "cell_type": "markdown",
   "metadata": {
    "collapsed": "true"
   },
   "source": [
    "#### Training with data I created"
   ]
  },
  {
   "cell_type": "markdown",
   "metadata": {},
   "source": [
    "**Small network for small data**"
   ]
  },
  {
   "cell_type": "code",
   "execution_count": 24,
   "metadata": {},
   "outputs": [
    {
     "name": "stdout",
     "output_type": "stream",
     "text": [
      "======================================\n",
      "Number of trainable parameters: 37\n",
      "Training average batch loss: 0.17662\n",
      "Training RMSE: 0.59433\n",
      "Standard deviation of y_train: 1.80837\n",
      "======================================\n"
     ]
    },
    {
     "data": {
      "image/png": "[encoded data removed]",
      "text/plain": [
       "<Figure size 432x288 with 1 Axes>"
      ]
     },
     "metadata": {
      "needs_background": "light"
     },
     "output_type": "display_data"
    }
   ],
   "source": [
    "# Hyperparameters:\n",
    "batch_size = 128\n",
    "learning_rate = 0.000001\n",
    "max_num_iterations = 500\n",
    "depth = 2\n",
    "width = 4\n",
    "\n",
    "\n",
    "# Training:\n",
    "train_net = NeuralNetwork(depth, width,\n",
    "                          batch_size,\n",
    "                          learning_rate, max_num_iterations,\n",
    "                          activation = \"leaky relu\")\n",
    "train_net.fit(X, y)\n",
    "train_net.train_metrics()"
   ]
  },
  {
   "cell_type": "markdown",
   "metadata": {},
   "source": [
    "**Network that is too complex for small, simple data**"
   ]
  },
  {
   "cell_type": "code",
   "execution_count": 27,
   "metadata": {},
   "outputs": [
    {
     "name": "stdout",
     "output_type": "stream",
     "text": [
      "======================================\n",
      "Number of trainable parameters: 2751\n",
      "Training average batch loss: 0.26664\n",
      "Training RMSE: 0.73026\n",
      "Standard deviation of y_train: 1.80837\n",
      "======================================\n"
     ]
    },
    {
     "data": {
      "image/png": "[encoded data removed]",
      "text/plain": [
       "<Figure size 432x288 with 1 Axes>"
      ]
     },
     "metadata": {
      "needs_background": "light"
     },
     "output_type": "display_data"
    }
   ],
   "source": [
    "# Hyperparameters:\n",
    "batch_size = 128\n",
    "learning_rate = 0.0000001\n",
    "max_num_iterations = 200\n",
    "width = 50\n",
    "depth = 2\n",
    "\n",
    "# Training:\n",
    "train_net  =NeuralNetwork(depth, width,\n",
    "                          batch_size,\n",
    "                          learning_rate, max_num_iterations,\n",
    "                          activation = \"leaky relu\")\n",
    "train_net.fit(X, y)\n",
    "train_net.train_metrics()"
   ]
  },
  {
   "cell_type": "markdown",
   "metadata": {},
   "source": [
    "#### Training with Josiah's Data"
   ]
  },
  {
   "cell_type": "markdown",
   "metadata": {},
   "source": [
    "**Reading in and cleaning data, getting Training and Validation Sets**"
   ]
  },
  {
   "cell_type": "code",
   "execution_count": 155,
   "metadata": {},
   "outputs": [],
   "source": [
    "# Read in data\n",
    "jdata = pd.read_csv('josiah_final_data.csv')\n",
    "\n",
    "# remove timestamp\n",
    "jdata_feat = jdata.drop(columns=['timestamp'])\n",
    "X_train, X_val = train_test_split(jdata_feat, test_size=0.1)"
   ]
  },
  {
   "cell_type": "markdown",
   "metadata": {},
   "source": [
    "**Standardizing Predictors and Response**"
   ]
  },
  {
   "cell_type": "code",
   "execution_count": 156,
   "metadata": {},
   "outputs": [],
   "source": [
    "standardizer = StandardScaler().fit(X_train)\n",
    "X_train_std = standardizer.transform(X_train)\n",
    "X_val_std = standardizer.transform(X_val)"
   ]
  },
  {
   "cell_type": "markdown",
   "metadata": {},
   "source": [
    "**Extracting Response**"
   ]
  },
  {
   "cell_type": "code",
   "execution_count": 157,
   "metadata": {},
   "outputs": [
    {
     "name": "stdout",
     "output_type": "stream",
     "text": [
      "Standard Deviation of y_train_std: 1.00000\n",
      "Standard Deviation of y_val_std: 0.99669\n"
     ]
    }
   ],
   "source": [
    "# remove response and save\n",
    "y_train_std = X_train_std[:, -1]\n",
    "X_train_std = X_train_std[:, :-1]\n",
    "\n",
    "# remove response and save\n",
    "y_val_std = X_val_std[:, -1]\n",
    "X_val_std = X_val_std[:, :-1]\n",
    "\n",
    "print(\"Standard Deviation of y_train_std: {:.5f}\".format(y_train_std.std()))\n",
    "print(\"Standard Deviation of y_val_std: {:.5f}\".format(y_val_std.std()))"
   ]
  },
  {
   "cell_type": "code",
   "execution_count": 173,
   "metadata": {},
   "outputs": [
    {
     "name": "stdout",
     "output_type": "stream",
     "text": [
      "======================================\n",
      "Number of trainable parameters: 21231\n",
      "Number of epochs until convergence: 751\n",
      "Training average batch loss: 0.02519\n",
      "Training RMSE: 0.22448\n",
      "Standard deviation of y_train: 1.0\n",
      "======================================\n"
     ]
    },
    {
     "data": {
      "image/png": "[encoded data removed]",
      "text/plain": [
       "<Figure size 432x288 with 1 Axes>"
      ]
     },
     "metadata": {
      "needs_background": "light"
     },
     "output_type": "display_data"
    },
    {
     "name": "stdout",
     "output_type": "stream",
     "text": [
      "======================================\n",
      "Validation average batch loss: 0.02683\n",
      "Validation RMSE: 0.23163\n",
      "Standard deviation of y_val: 0.99669\n",
      "======================================\n"
     ]
    }
   ],
   "source": [
    "# Hyperparameters:\n",
    "batch_size = 512\n",
    "learning_rate = 0.00001\n",
    "max_num_iterations = 750\n",
    "depth = 7\n",
    "width = 55\n",
    "#conv_crit = 0.0008\n",
    "conv_crit = 0.001\n",
    "\n",
    "\n",
    "# Training:\n",
    "train_net = NeuralNetwork(depth, width,\n",
    "                          batch_size,\n",
    "                          learning_rate_init = learning_rate,\n",
    "                          max_num_iterations = max_num_iterations,\n",
    "                          convergence_criteria = conv_crit,\n",
    "                          momentum=0.95,\n",
    "                          activation = \"leaky relu\",\n",
    "                          lambda_rate = 1,\n",
    "                          weight_initialization = 'He')\n",
    "\n",
    "\n",
    "train_net.fit(X_train_std, y_train_std)\n",
    "train_net.train_metrics()\n",
    "train_net.validate(X_val_std, y_val_std)"
   ]
  },
  {
   "cell_type": "markdown",
   "metadata": {},
   "source": [
    "**Hyperparameters:**\n",
    "1. Depth\n",
    "2. Width\n",
    "3. Batch Size\n",
    "4. Learning Rate\n",
    "5. ~~Activation Function (leaky ReLU vs. ReLU)~~\n",
    "6. Lambda Multiplier for Annealing Learning Rate\n",
    "    + I found this doesn't help much or it isn't working correctly, seems to make endgame more unstable\n",
    "7. Convergence criteria"
   ]
  },
  {
   "cell_type": "markdown",
   "metadata": {},
   "source": [
    "**Order to implement:**\n",
    "1. ~~Convergence Criteria~~\n",
    "2. ~~Momentum~~\n",
    "3. ~~Other annealing strategy?~~\n",
    "4. Grid Search\n",
    "5. Weight Regularization"
   ]
  }
 ],
 "metadata": {
  "kernelspec": {
   "display_name": "Python 3",
   "language": "python",
   "name": "python3"
  },
  "language_info": {
   "codemirror_mode": {
    "name": "ipython",
    "version": 3
   },
   "file_extension": ".py",
   "mimetype": "text/x-python",
   "name": "python",
   "nbconvert_exporter": "python",
   "pygments_lexer": "ipython3",
   "version": "3.6.5"
  }
 },
 "nbformat": 4,
 "nbformat_minor": 4
}
