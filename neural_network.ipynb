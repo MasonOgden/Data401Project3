{
 "cells": [
  {
   "cell_type": "markdown",
   "metadata": {},
   "source": [
    "**Things to Implement:**\n",
    "1. ~~weight initialization methods~~\n",
    "2. Validation set for hyperparameter tuning\n",
    "    + Hyperparameters:\n",
    "        + depth\n",
    "        + width\n",
    "        + learning rate $\\eta$\n",
    "        + batch size $B$\n",
    "        + convergence criteria\n",
    "3. Making sure input data is zero-centered with normalized variance\n",
    "     + Maybe normalize the response variable as well\n",
    "4. Momentum in stochastic gradient descent\n",
    "5. Annealing (decaying) learning rate\n",
    "    + multiply by a constant on every iteration\n",
    "    + or reduce it when the validation loss isn't decreasing any more.\n",
    "6. Stopping Criterion\n",
    "    + based on average batch loss?\n",
    "7. Weight regularization\n",
    "    + to control overfitting"
   ]
  },
  {
   "cell_type": "markdown",
   "metadata": {
    "collapsed": "true"
   },
   "source": [
    "### Packages"
   ]
  },
  {
   "cell_type": "code",
   "execution_count": 1,
   "metadata": {},
   "outputs": [],
   "source": [
    "import numpy as np\n",
    "import pandas as pd\n",
    "import matplotlib.pyplot as plt\n",
    "import random"
   ]
  },
  {
   "cell_type": "markdown",
   "metadata": {
    "collapsed": "true"
   },
   "source": [
    "### Generating Toy Data"
   ]
  },
  {
   "cell_type": "code",
   "execution_count": 2,
   "metadata": {},
   "outputs": [
    {
     "data": {
      "text/plain": [
       "(40, 2)"
      ]
     },
     "execution_count": 2,
     "metadata": {},
     "output_type": "execute_result"
    }
   ],
   "source": [
    "x1 = np.random.normal(loc=5, scale=2, size=40) # generate 40 values from Normal(5, 2)\n",
    "x2 = np.random.normal(loc=10, scale=2, size=40) # generate 40 values from Normal(10, 2)\n",
    "\n",
    "# define coeffients to use for linear combination\n",
    "beta_0 = 3\n",
    "beta_1 = 0.5\n",
    "beta_2 = 0.75\n",
    "\n",
    "# Define X and y\n",
    "X = np.concatenate([x1.reshape(40, 1), x2.reshape(40, 1)], axis=1)\n",
    "y = beta_0 + (beta_1 * X[:, 0]) + (beta_2 * X[:, 1])\n",
    "\n",
    "X_batch = X\n",
    "X_batch.shape"
   ]
  },
  {
   "cell_type": "code",
   "execution_count": 3,
   "metadata": {},
   "outputs": [
    {
     "data": {
      "text/plain": [
       "(0, 20)"
      ]
     },
     "execution_count": 3,
     "metadata": {},
     "output_type": "execute_result"
    },
    {
     "data": {
      "image/png": "[encoded data removed]",
      "text/plain": [
       "<Figure size 432x288 with 1 Axes>"
      ]
     },
     "metadata": {
      "needs_background": "light"
     },
     "output_type": "display_data"
    }
   ],
   "source": [
    "plt.scatter(X[:, 0], X[:, 1], cmap=y)\n",
    "plt.xlim(0, 10)\n",
    "plt.ylim(0, 20)"
   ]
  },
  {
   "cell_type": "markdown",
   "metadata": {
    "collapsed": "true"
   },
   "source": [
    "### Functions"
   ]
  },
  {
   "cell_type": "code",
   "execution_count": 6,
   "metadata": {},
   "outputs": [],
   "source": [
    "def ReLU(vec):\n",
    "    return np.where(vec <= 0, 0, vec)\n",
    "\n",
    "\n",
    "def ReLU_derivative(vec):\n",
    "    return np.where(vec <= 0, 0, 1)\n",
    "\n",
    "\n",
    "def leaky_ReLU(vec):\n",
    "    return np.where(vec <= 0, 0.1 * vec, vec)\n",
    "\n",
    "\n",
    "def loss(num, y):\n",
    "    return (1/2) * ((num - y) ** 2)\n",
    "\n",
    "\n",
    "def average_batch_loss(vec, y):\n",
    "    B = vec.shape[0]\n",
    "    losses = loss(vec, y)\n",
    "    return (1 / B) * losses.sum()\n",
    "\n",
    "\n",
    "def get_batch(X, y, batch_size):\n",
    "    indices = np.random.randint(X.shape[0], size=batch_size)\n",
    "    return X[indices, :], y[indices]"
   ]
  },
  {
   "cell_type": "markdown",
   "metadata": {
    "collapsed": "true"
   },
   "source": [
    "### Defining Layers"
   ]
  },
  {
   "cell_type": "markdown",
   "metadata": {},
   "source": [
    "**Types of Layers:**\n",
    "1. Loss layer (final layer)\n",
    "2. Output layer (single scalar value z)\n",
    "3. Activation layer (activation function sigma applied to hidden layer)\n",
    "4. Hidden layer"
   ]
  },
  {
   "cell_type": "code",
   "execution_count": 8,
   "metadata": {},
   "outputs": [],
   "source": [
    "class LossLayer:\n",
    "    def __init__(self, avg_loss=None, y_vec=None):\n",
    "        self.avg_loss = None\n",
    "        self.y_vec = y_vec\n",
    "        \n",
    "    def __repr__(self):\n",
    "        return '{layer type: Loss, average loss: ' +  (str(self.avg_loss) if self.avg_loss is not None else \"None\") +  ', true y values shape: ' + (str(self.y_vec.shape) if self.y_vec is not None else \"None\") + '}'\n",
    "    \n",
    "    def __str__(self):\n",
    "        return repr(self)\n",
    "    \n",
    "    \n",
    "class OutputLayer:\n",
    "    def __init__(self, array=None, weights=None):\n",
    "        self.array = array\n",
    "        self.weights = weights\n",
    "        \n",
    "    def __repr__(self):\n",
    "        return '{layer type: Output, output array shape: ' +  (str(self.array.shape) if self.array is not None else \"None\") + ', weights shape: ' + (str(self.weights.shape) if self.weights is not None else \"None\") + '}'\n",
    "    \n",
    "    def __str__(self):\n",
    "        return repr(self)\n",
    "    \n",
    "\n",
    "class ActivationLayer:\n",
    "    def __init__(self, array=None):\n",
    "        self.array = array\n",
    "        \n",
    "    def __repr__(self):\n",
    "        return '{layer type: Activation, output array shape: ' + (str(self.array.shape) if self.array is not None else \"None\") + '}'\n",
    "    def __str__(self):\n",
    "        return repr(self)\n",
    "    \n",
    "    \n",
    "class HiddenLayer:\n",
    "    def __init__(self, array=None, weights=None):\n",
    "        self.array = array\n",
    "        self.weights = weights\n",
    "        \n",
    "    def __repr__(self):\n",
    "        return '{layer type: Hidden, output array shape: ' + (str(self.array.shape) if self.array is not None else \"None\") + ', weights shape: ' + (str(self.weights.shape) if self.weights is not None else \"None\") + '}'"
   ]
  },
  {
   "cell_type": "markdown",
   "metadata": {
    "collapsed": "true"
   },
   "source": [
    "### Implementing Network"
   ]
  },
  {
   "cell_type": "code",
   "execution_count": 9,
   "metadata": {},
   "outputs": [],
   "source": [
    "class NeuralNetwork:\n",
    "    def __init__(self, depth, width, input_shape):\n",
    "        self.depth = depth\n",
    "        self.width = width\n",
    "        self.B = input_shape[0]\n",
    "        self.M = input_shape[1]  # This is number of features in the input batch\n",
    "        self.layers = []\n",
    "        self.num_hyperparameters = 0\n",
    "        self.losses = []\n",
    "\n",
    "        # Initializing the layers in the network\n",
    "\n",
    "        for i in range(self.depth):\n",
    "            # make the hidden layer first\n",
    "            if i == 0:  # if this is the first hidden layer\n",
    "                # then the number of rows in weight has to match number of columns\n",
    "                h_layer = HiddenLayer(weights=self.__initialize_weights(shape=(self.M + 1, self.width), method=\"He\"))\n",
    "                self.num_hyperparameters += (self.M + 1) * self.width\n",
    "            else:  # if this is not the first hidden layer\n",
    "                # then weights should be of dimension (width x width)\n",
    "                h_layer = HiddenLayer(weights = self.__initialize_weights(shape=(self.width + 1, self.width), method=\"He\"))\n",
    "                self.num_hyperparameters += (self.width + 1) * self.width\n",
    "\n",
    "            # then make the activation layer for that hidden layer\n",
    "            sigma_layer = ActivationLayer()\n",
    "\n",
    "            self.layers.append(h_layer)\n",
    "            self.layers.append(sigma_layer)\n",
    "\n",
    "        # make an output layer that creates a scalar with its weights\n",
    "        z_layer = OutputLayer(weights=self.__initialize_weights(shape=(self.width + 1, 1), method=\"He\"))\n",
    "        self.num_hyperparameters += (self.width + 1) * 1\n",
    "        self.layers.append(z_layer)\n",
    "\n",
    "        # make a loss layer\n",
    "        loss_layer = LossLayer()\n",
    "        self.layers.append(loss_layer)\n",
    "\n",
    "    def __repr__(self):\n",
    "        return '[' + '\\n'.join([str(layer) for layer in self.layers]) + ']'\n",
    "\n",
    "    def __str__(self):\n",
    "        return repr(self)\n",
    "\n",
    "    def get_avg_batch_loss(self):\n",
    "        return self.layers[-1].avg_loss\n",
    "    \n",
    "    def __initialize_weights(self, shape, method = \"Common\"):\n",
    "        if method == \"Common\":\n",
    "            return np.random.uniform((-1 / np.sqrt(self.B)), (1 / np.sqrt(self.B)), size=shape)\n",
    "        elif method == \"He\":\n",
    "            return np.random.normal(loc=0, scale=np.sqrt(2 / self.B), size=shape)\n",
    "            \n",
    "        \n",
    "\n",
    "    def forward_pass(self, X_batch, y_vec):\n",
    "\n",
    "        # Append column of 1s to end of this batch, to hide bias term\n",
    "        X_w_bias = np.concatenate([X_batch, np.ones(shape=(self.B, 1))], axis=1)\n",
    "        i = 0\n",
    "\n",
    "        # first apply weights to input layer and save result in first hidden layer\n",
    "        self.layers[0].array = X_w_bias.dot(self.layers[0].weights)\n",
    "\n",
    "        i += 1\n",
    "\n",
    "        while i < len(self.layers):\n",
    "            if isinstance(self.layers[i], LossLayer):  # if this is a LossLayer:\n",
    "                # then apply loss function to B x 1 vector to get 1 x 1 average loss over this batch\n",
    "                avg_loss = average_batch_loss(self.layers[i - 1].array, y_vec)\n",
    "                self.layers[i].avg_loss = avg_loss\n",
    "                self.losses.append(avg_loss)\n",
    "                self.layers[i].y_vec = y_vec\n",
    "            elif isinstance(self.layers[i], ActivationLayer):  # if this is an activation layer\n",
    "                # then apply activation function to previous layer and save result\n",
    "                self.layers[i].array = ReLU(self.layers[i - 1].array)\n",
    "            else:  # if this is a Hidden Layer of an Output Layer:\n",
    "                # add bias column, then apply this layer's weights to the previous layer and save result in current layer\n",
    "                input_w_bias = np.concatenate([self.layers[i - 1].array, np.ones(shape=(self.B, 1))], axis=1)\n",
    "                self.layers[i].array = input_w_bias.dot(self.layers[i].weights)\n",
    "\n",
    "\n",
    "            i += 1\n",
    "\n",
    "    def backward_pass(self, X_batch, learning_rate):\n",
    "        X_w_bias = np.concatenate([X_batch, np.ones(shape=(self.B, 1))], axis=1)\n",
    "\n",
    "        i = len(self.layers) - 1  # start at the loss layer\n",
    "\n",
    "        while i > 0:  # while we still have layers to traverse through backwards that aren't the first hidden layer\n",
    "            if isinstance(self.layers[i], LossLayer):  # if this is a loss layer:\n",
    "                input_x_vec = self.layers[i - 1].array  # get the x values that were inputted to this loss function\n",
    "                J = input_x_vec - self.layers[i].y_vec.reshape(self.B, 1)  # the derivative of our loss function is just x - y\n",
    "            elif isinstance(self.layers[i], ActivationLayer):  # if this is an activation layer:\n",
    "                J_update = ReLU_derivative(self.layers[i - 1].array)  # calcluate derivative (of ReLU) of every value that was inputted to this layer\n",
    "                J = J * J_update  # update J with these values\n",
    "            else:  # if this is a hidden layer or output layer (anything that has weights)\n",
    "                # append bias vector to the array that was inputted to this layer:\n",
    "                input_w_bias = np.concatenate([self.layers[i - 1].array, np.ones(shape=(self.B, 1))], axis=1)\n",
    "\n",
    "                weight_update = np.transpose(input_w_bias).dot(J)  # calculate the weight update by doing xT * J\n",
    "                J = J.dot(np.transpose(self.layers[i].weights[:-1, :]))  # Update the Jacobian by doing J * wT\n",
    "\n",
    "                self.layers[i].weights = self.layers[i].weights - (learning_rate * weight_update)  # apply the weight update, multiplying by learning rate first\n",
    "            i -= 1\n",
    "\n",
    "        # now we update the weights of the very first hidden layer (it has special weight dimensions)\n",
    "        # so i = 0\n",
    "\n",
    "        weight_update = np.transpose(X_w_bias).dot(J)  # result is 3 x 3\n",
    "\n",
    "        self.layers[i].weights = self.layers[i].weights - (\n",
    "                    learning_rate * weight_update)  # apply the weight update, multiplying by learning rate first\n",
    "        \n",
    "    def backward_pass_momentum(self, X_batch, learning_rate, momentum):\n",
    "        pass\n",
    "    \n",
    "    def train(self, X, y, batch_size, learning_rate, num_iterations):\n",
    "        print(\"Number of trainable parameters: {}\".format(self.num_hyperparameters))\n",
    "        \n",
    "        for i in range(num_iterations):\n",
    "            this_X, this_y = get_batch(X, y, batch_size)\n",
    "            self.forward_pass(this_X, this_y)\n",
    "            self.backward_pass(this_X, learning_rate)\n",
    "\n",
    "        print(\"Average batch loss: {}\".format(self.get_avg_batch_loss()))\n",
    "        \n",
    "        plt.plot(range(num_iterations), self.losses)\n",
    "        plt.show()\n",
    "        \n",
    "        "
   ]
  },
  {
   "cell_type": "code",
   "execution_count": 11,
   "metadata": {},
   "outputs": [
    {
     "data": {
      "text/plain": [
       "(40, 2)"
      ]
     },
     "execution_count": 11,
     "metadata": {},
     "output_type": "execute_result"
    }
   ],
   "source": [
    "X_batch.shape"
   ]
  },
  {
   "cell_type": "code",
   "execution_count": 12,
   "metadata": {},
   "outputs": [
    {
     "data": {
      "text/plain": [
       "[{layer type: Hidden, output array shape: (40, 4), weights shape: (3, 4)},\n",
       " {layer type: Activation, output array shape: (40, 4)},\n",
       " {layer type: Hidden, output array shape: (40, 4), weights shape: (5, 4)},\n",
       " {layer type: Activation, output array shape: (40, 4)},\n",
       " {layer type: Output, output array shape: (40, 1), weights shape: (5, 1)},\n",
       " {layer type: Loss, average loss: 3267.001861822582, true y values shape: (40,)}]"
      ]
     },
     "execution_count": 12,
     "metadata": {},
     "output_type": "execute_result"
    }
   ],
   "source": [
    "net = NeuralNetwork(depth=2, width=4, input_shape=(40, 2))\n",
    "net.forward_pass(X_batch, y)\n",
    "net.layers"
   ]
  },
  {
   "cell_type": "code",
   "execution_count": 13,
   "metadata": {},
   "outputs": [],
   "source": [
    "net.backward_pass(X_batch, 0.001)"
   ]
  },
  {
   "cell_type": "markdown",
   "metadata": {},
   "source": [
    "### Trying the Training Process"
   ]
  },
  {
   "cell_type": "markdown",
   "metadata": {},
   "source": [
    "#### Creating 2000 rows of data"
   ]
  },
  {
   "cell_type": "code",
   "execution_count": 10,
   "metadata": {},
   "outputs": [],
   "source": [
    "# number of rows to create\n",
    "nrows = 2000\n",
    "\n",
    "# define x features\n",
    "x1 = np.random.normal(loc=5, scale=2, size=nrows) # generate 40 values from Normal(5, 2)\n",
    "x2 = np.random.normal(loc=10, scale=2, size=nrows) # generate 40 values from Normal(10, 2)\n",
    "\n",
    "# define coeffients to use for linear combination\n",
    "beta_0 = 3\n",
    "beta_1 = 0.5\n",
    "beta_2 = 0.75\n",
    "\n",
    "# Define X and y\n",
    "X = np.concatenate([x1.reshape(nrows, 1), x2.reshape(nrows, 1)], axis=1)\n",
    "y = beta_0 + (beta_1 * X[:, 0]) + (beta_2 * X[:, 1])  # make a linear combination of x1 and x2 to be y"
   ]
  },
  {
   "cell_type": "markdown",
   "metadata": {},
   "source": [
    "#### Training"
   ]
  },
  {
   "cell_type": "code",
   "execution_count": 16,
   "metadata": {},
   "outputs": [
    {
     "name": "stdout",
     "output_type": "stream",
     "text": [
      "Number of trainable parameters: 37\n",
      "Average batch loss: 447.87818645694495\n"
     ]
    },
    {
     "data": {
      "image/png": "[encoded data removed]",
      "text/plain": [
       "<Figure size 432x288 with 1 Axes>"
      ]
     },
     "metadata": {
      "needs_background": "light"
     },
     "output_type": "display_data"
    }
   ],
   "source": [
    "# Hyperparameters:\n",
    "batch_size = 128\n",
    "learning_rate = 0.00001\n",
    "max_num_iterations = 2000\n",
    "width = 4\n",
    "depth = 2\n",
    "\n",
    "# Training:\n",
    "train_net = NeuralNetwork(depth, width, input_shape=(batch_size, X.shape[1]))\n",
    "train_net.train(X, y, batch_size, learning_rate, max_num_iterations)"
   ]
  },
  {
   "cell_type": "code",
   "execution_count": 17,
   "metadata": {},
   "outputs": [
    {
     "name": "stdout",
     "output_type": "stream",
     "text": [
      "Number of trainable parameters: 23151\n",
      "Average batch loss: 22684.78741902054\n"
     ]
    },
    {
     "data": {
      "image/png": "[encoded data removed]",
      "text/plain": [
       "<Figure size 432x288 with 1 Axes>"
      ]
     },
     "metadata": {
      "needs_background": "light"
     },
     "output_type": "display_data"
    }
   ],
   "source": [
    "# Hyperparameters:\n",
    "batch_size = 500\n",
    "learning_rate = 0.0000001\n",
    "max_num_iterations = 3000\n",
    "width = 50\n",
    "depth = 10\n",
    "\n",
    "# Training:\n",
    "train_net = NeuralNetwork(depth, width, input_shape=(batch_size, X.shape[1]))\n",
    "train_net.train(X, y, batch_size, learning_rate, max_num_iterations)"
   ]
  }
 ],
 "metadata": {
  "kernelspec": {
   "display_name": "Python 3",
   "language": "python",
   "name": "python3"
  },
  "language_info": {
   "codemirror_mode": {
    "name": "ipython",
    "version": 3
   },
   "file_extension": ".py",
   "mimetype": "text/x-python",
   "name": "python",
   "nbconvert_exporter": "python",
   "pygments_lexer": "ipython3",
   "version": "3.6.5"
  }
 },
 "nbformat": 4,
 "nbformat_minor": 4
}
