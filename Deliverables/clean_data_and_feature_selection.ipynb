{
 "cells": [
  {
   "cell_type": "code",
   "execution_count": 1,
   "metadata": {},
   "outputs": [],
   "source": [
    "import pandas as pd\n",
    "import numpy as np\n",
    "\n",
    "from sklearn import preprocessing\n",
    "from sklearn.linear_model import LinearRegression\n",
    "\n",
    "from sklearn.feature_selection import SelectKBest\n",
    "from sklearn.feature_selection import f_regression\n",
    "\n",
    "from sklearn.ensemble import ExtraTreesRegressor\n",
    "from sklearn.ensemble import RandomForestRegressor"
   ]
  },
  {
   "cell_type": "markdown",
   "metadata": {},
   "source": [
    "## Load Data"
   ]
  },
  {
   "cell_type": "code",
   "execution_count": 2,
   "metadata": {},
   "outputs": [],
   "source": [
    "train = pd.read_csv(\"train.csv\")\n",
    "macro = pd.read_csv(\"macro.csv\")"
   ]
  },
  {
   "cell_type": "code",
   "execution_count": 3,
   "metadata": {},
   "outputs": [
    {
     "data": {
      "text/html": [
       "<div>\n",
       "<style scoped>\n",
       "    .dataframe tbody tr th:only-of-type {\n",
       "        vertical-align: middle;\n",
       "    }\n",
       "\n",
       "    .dataframe tbody tr th {\n",
       "        vertical-align: top;\n",
       "    }\n",
       "\n",
       "    .dataframe thead th {\n",
       "        text-align: right;\n",
       "    }\n",
       "</style>\n",
       "<table border=\"1\" class=\"dataframe\">\n",
       "  <thead>\n",
       "    <tr style=\"text-align: right;\">\n",
       "      <th></th>\n",
       "      <th>id</th>\n",
       "      <th>timestamp</th>\n",
       "      <th>full_sq</th>\n",
       "      <th>life_sq</th>\n",
       "      <th>floor</th>\n",
       "      <th>max_floor</th>\n",
       "      <th>material</th>\n",
       "      <th>build_year</th>\n",
       "      <th>num_room</th>\n",
       "      <th>kitch_sq</th>\n",
       "      <th>...</th>\n",
       "      <th>cafe_count_5000_price_2500</th>\n",
       "      <th>cafe_count_5000_price_4000</th>\n",
       "      <th>cafe_count_5000_price_high</th>\n",
       "      <th>big_church_count_5000</th>\n",
       "      <th>church_count_5000</th>\n",
       "      <th>mosque_count_5000</th>\n",
       "      <th>leisure_count_5000</th>\n",
       "      <th>sport_count_5000</th>\n",
       "      <th>market_count_5000</th>\n",
       "      <th>price_doc</th>\n",
       "    </tr>\n",
       "  </thead>\n",
       "  <tbody>\n",
       "    <tr>\n",
       "      <th>0</th>\n",
       "      <td>1</td>\n",
       "      <td>2011-08-20</td>\n",
       "      <td>43</td>\n",
       "      <td>27.0</td>\n",
       "      <td>4.0</td>\n",
       "      <td>NaN</td>\n",
       "      <td>NaN</td>\n",
       "      <td>NaN</td>\n",
       "      <td>NaN</td>\n",
       "      <td>NaN</td>\n",
       "      <td>...</td>\n",
       "      <td>9</td>\n",
       "      <td>4</td>\n",
       "      <td>0</td>\n",
       "      <td>13</td>\n",
       "      <td>22</td>\n",
       "      <td>1</td>\n",
       "      <td>0</td>\n",
       "      <td>52</td>\n",
       "      <td>4</td>\n",
       "      <td>5850000</td>\n",
       "    </tr>\n",
       "    <tr>\n",
       "      <th>1</th>\n",
       "      <td>2</td>\n",
       "      <td>2011-08-23</td>\n",
       "      <td>34</td>\n",
       "      <td>19.0</td>\n",
       "      <td>3.0</td>\n",
       "      <td>NaN</td>\n",
       "      <td>NaN</td>\n",
       "      <td>NaN</td>\n",
       "      <td>NaN</td>\n",
       "      <td>NaN</td>\n",
       "      <td>...</td>\n",
       "      <td>15</td>\n",
       "      <td>3</td>\n",
       "      <td>0</td>\n",
       "      <td>15</td>\n",
       "      <td>29</td>\n",
       "      <td>1</td>\n",
       "      <td>10</td>\n",
       "      <td>66</td>\n",
       "      <td>14</td>\n",
       "      <td>6000000</td>\n",
       "    </tr>\n",
       "    <tr>\n",
       "      <th>2</th>\n",
       "      <td>3</td>\n",
       "      <td>2011-08-27</td>\n",
       "      <td>43</td>\n",
       "      <td>29.0</td>\n",
       "      <td>2.0</td>\n",
       "      <td>NaN</td>\n",
       "      <td>NaN</td>\n",
       "      <td>NaN</td>\n",
       "      <td>NaN</td>\n",
       "      <td>NaN</td>\n",
       "      <td>...</td>\n",
       "      <td>10</td>\n",
       "      <td>3</td>\n",
       "      <td>0</td>\n",
       "      <td>11</td>\n",
       "      <td>27</td>\n",
       "      <td>0</td>\n",
       "      <td>4</td>\n",
       "      <td>67</td>\n",
       "      <td>10</td>\n",
       "      <td>5700000</td>\n",
       "    </tr>\n",
       "    <tr>\n",
       "      <th>3</th>\n",
       "      <td>4</td>\n",
       "      <td>2011-09-01</td>\n",
       "      <td>89</td>\n",
       "      <td>50.0</td>\n",
       "      <td>9.0</td>\n",
       "      <td>NaN</td>\n",
       "      <td>NaN</td>\n",
       "      <td>NaN</td>\n",
       "      <td>NaN</td>\n",
       "      <td>NaN</td>\n",
       "      <td>...</td>\n",
       "      <td>11</td>\n",
       "      <td>2</td>\n",
       "      <td>1</td>\n",
       "      <td>4</td>\n",
       "      <td>4</td>\n",
       "      <td>0</td>\n",
       "      <td>0</td>\n",
       "      <td>26</td>\n",
       "      <td>3</td>\n",
       "      <td>13100000</td>\n",
       "    </tr>\n",
       "    <tr>\n",
       "      <th>4</th>\n",
       "      <td>5</td>\n",
       "      <td>2011-09-05</td>\n",
       "      <td>77</td>\n",
       "      <td>77.0</td>\n",
       "      <td>4.0</td>\n",
       "      <td>NaN</td>\n",
       "      <td>NaN</td>\n",
       "      <td>NaN</td>\n",
       "      <td>NaN</td>\n",
       "      <td>NaN</td>\n",
       "      <td>...</td>\n",
       "      <td>319</td>\n",
       "      <td>108</td>\n",
       "      <td>17</td>\n",
       "      <td>135</td>\n",
       "      <td>236</td>\n",
       "      <td>2</td>\n",
       "      <td>91</td>\n",
       "      <td>195</td>\n",
       "      <td>14</td>\n",
       "      <td>16331452</td>\n",
       "    </tr>\n",
       "  </tbody>\n",
       "</table>\n",
       "<p>5 rows × 292 columns</p>\n",
       "</div>"
      ],
      "text/plain": [
       "   id   timestamp  full_sq  life_sq  floor  max_floor  material  build_year  \\\n",
       "0   1  2011-08-20       43     27.0    4.0        NaN       NaN         NaN   \n",
       "1   2  2011-08-23       34     19.0    3.0        NaN       NaN         NaN   \n",
       "2   3  2011-08-27       43     29.0    2.0        NaN       NaN         NaN   \n",
       "3   4  2011-09-01       89     50.0    9.0        NaN       NaN         NaN   \n",
       "4   5  2011-09-05       77     77.0    4.0        NaN       NaN         NaN   \n",
       "\n",
       "   num_room  kitch_sq  ...  cafe_count_5000_price_2500  \\\n",
       "0       NaN       NaN  ...                           9   \n",
       "1       NaN       NaN  ...                          15   \n",
       "2       NaN       NaN  ...                          10   \n",
       "3       NaN       NaN  ...                          11   \n",
       "4       NaN       NaN  ...                         319   \n",
       "\n",
       "  cafe_count_5000_price_4000 cafe_count_5000_price_high  \\\n",
       "0                          4                          0   \n",
       "1                          3                          0   \n",
       "2                          3                          0   \n",
       "3                          2                          1   \n",
       "4                        108                         17   \n",
       "\n",
       "   big_church_count_5000  church_count_5000  mosque_count_5000  \\\n",
       "0                     13                 22                  1   \n",
       "1                     15                 29                  1   \n",
       "2                     11                 27                  0   \n",
       "3                      4                  4                  0   \n",
       "4                    135                236                  2   \n",
       "\n",
       "   leisure_count_5000  sport_count_5000  market_count_5000  price_doc  \n",
       "0                   0                52                  4    5850000  \n",
       "1                  10                66                 14    6000000  \n",
       "2                   4                67                 10    5700000  \n",
       "3                   0                26                  3   13100000  \n",
       "4                  91               195                 14   16331452  \n",
       "\n",
       "[5 rows x 292 columns]"
      ]
     },
     "execution_count": 3,
     "metadata": {},
     "output_type": "execute_result"
    }
   ],
   "source": [
    "train.head()"
   ]
  },
  {
   "cell_type": "code",
   "execution_count": 4,
   "metadata": {},
   "outputs": [
    {
     "data": {
      "text/html": [
       "<div>\n",
       "<style scoped>\n",
       "    .dataframe tbody tr th:only-of-type {\n",
       "        vertical-align: middle;\n",
       "    }\n",
       "\n",
       "    .dataframe tbody tr th {\n",
       "        vertical-align: top;\n",
       "    }\n",
       "\n",
       "    .dataframe thead th {\n",
       "        text-align: right;\n",
       "    }\n",
       "</style>\n",
       "<table border=\"1\" class=\"dataframe\">\n",
       "  <thead>\n",
       "    <tr style=\"text-align: right;\">\n",
       "      <th></th>\n",
       "      <th>timestamp</th>\n",
       "      <th>oil_urals</th>\n",
       "      <th>gdp_quart</th>\n",
       "      <th>gdp_quart_growth</th>\n",
       "      <th>cpi</th>\n",
       "      <th>ppi</th>\n",
       "      <th>gdp_deflator</th>\n",
       "      <th>balance_trade</th>\n",
       "      <th>balance_trade_growth</th>\n",
       "      <th>usdrub</th>\n",
       "      <th>...</th>\n",
       "      <th>provision_retail_space_modern_sqm</th>\n",
       "      <th>turnover_catering_per_cap</th>\n",
       "      <th>theaters_viewers_per_1000_cap</th>\n",
       "      <th>seats_theather_rfmin_per_100000_cap</th>\n",
       "      <th>museum_visitis_per_100_cap</th>\n",
       "      <th>bandwidth_sports</th>\n",
       "      <th>population_reg_sports_share</th>\n",
       "      <th>students_reg_sports_share</th>\n",
       "      <th>apartment_build</th>\n",
       "      <th>apartment_fund_sqm</th>\n",
       "    </tr>\n",
       "  </thead>\n",
       "  <tbody>\n",
       "    <tr>\n",
       "      <th>0</th>\n",
       "      <td>2010-01-01</td>\n",
       "      <td>76.1</td>\n",
       "      <td>NaN</td>\n",
       "      <td>NaN</td>\n",
       "      <td>NaN</td>\n",
       "      <td>NaN</td>\n",
       "      <td>NaN</td>\n",
       "      <td>NaN</td>\n",
       "      <td>NaN</td>\n",
       "      <td>NaN</td>\n",
       "      <td>...</td>\n",
       "      <td>690.0</td>\n",
       "      <td>6221.0</td>\n",
       "      <td>527.0</td>\n",
       "      <td>0.41</td>\n",
       "      <td>993.0</td>\n",
       "      <td>NaN</td>\n",
       "      <td>NaN</td>\n",
       "      <td>63.03</td>\n",
       "      <td>22825.0</td>\n",
       "      <td>NaN</td>\n",
       "    </tr>\n",
       "    <tr>\n",
       "      <th>1</th>\n",
       "      <td>2010-01-02</td>\n",
       "      <td>76.1</td>\n",
       "      <td>NaN</td>\n",
       "      <td>NaN</td>\n",
       "      <td>NaN</td>\n",
       "      <td>NaN</td>\n",
       "      <td>NaN</td>\n",
       "      <td>NaN</td>\n",
       "      <td>NaN</td>\n",
       "      <td>NaN</td>\n",
       "      <td>...</td>\n",
       "      <td>690.0</td>\n",
       "      <td>6221.0</td>\n",
       "      <td>527.0</td>\n",
       "      <td>0.41</td>\n",
       "      <td>993.0</td>\n",
       "      <td>NaN</td>\n",
       "      <td>NaN</td>\n",
       "      <td>63.03</td>\n",
       "      <td>22825.0</td>\n",
       "      <td>NaN</td>\n",
       "    </tr>\n",
       "    <tr>\n",
       "      <th>2</th>\n",
       "      <td>2010-01-03</td>\n",
       "      <td>76.1</td>\n",
       "      <td>NaN</td>\n",
       "      <td>NaN</td>\n",
       "      <td>NaN</td>\n",
       "      <td>NaN</td>\n",
       "      <td>NaN</td>\n",
       "      <td>NaN</td>\n",
       "      <td>NaN</td>\n",
       "      <td>NaN</td>\n",
       "      <td>...</td>\n",
       "      <td>690.0</td>\n",
       "      <td>6221.0</td>\n",
       "      <td>527.0</td>\n",
       "      <td>0.41</td>\n",
       "      <td>993.0</td>\n",
       "      <td>NaN</td>\n",
       "      <td>NaN</td>\n",
       "      <td>63.03</td>\n",
       "      <td>22825.0</td>\n",
       "      <td>NaN</td>\n",
       "    </tr>\n",
       "    <tr>\n",
       "      <th>3</th>\n",
       "      <td>2010-01-04</td>\n",
       "      <td>76.1</td>\n",
       "      <td>NaN</td>\n",
       "      <td>NaN</td>\n",
       "      <td>NaN</td>\n",
       "      <td>NaN</td>\n",
       "      <td>NaN</td>\n",
       "      <td>NaN</td>\n",
       "      <td>NaN</td>\n",
       "      <td>29.905</td>\n",
       "      <td>...</td>\n",
       "      <td>690.0</td>\n",
       "      <td>6221.0</td>\n",
       "      <td>527.0</td>\n",
       "      <td>0.41</td>\n",
       "      <td>993.0</td>\n",
       "      <td>NaN</td>\n",
       "      <td>NaN</td>\n",
       "      <td>63.03</td>\n",
       "      <td>22825.0</td>\n",
       "      <td>NaN</td>\n",
       "    </tr>\n",
       "    <tr>\n",
       "      <th>4</th>\n",
       "      <td>2010-01-05</td>\n",
       "      <td>76.1</td>\n",
       "      <td>NaN</td>\n",
       "      <td>NaN</td>\n",
       "      <td>NaN</td>\n",
       "      <td>NaN</td>\n",
       "      <td>NaN</td>\n",
       "      <td>NaN</td>\n",
       "      <td>NaN</td>\n",
       "      <td>29.836</td>\n",
       "      <td>...</td>\n",
       "      <td>690.0</td>\n",
       "      <td>6221.0</td>\n",
       "      <td>527.0</td>\n",
       "      <td>0.41</td>\n",
       "      <td>993.0</td>\n",
       "      <td>NaN</td>\n",
       "      <td>NaN</td>\n",
       "      <td>63.03</td>\n",
       "      <td>22825.0</td>\n",
       "      <td>NaN</td>\n",
       "    </tr>\n",
       "  </tbody>\n",
       "</table>\n",
       "<p>5 rows × 100 columns</p>\n",
       "</div>"
      ],
      "text/plain": [
       "    timestamp  oil_urals  gdp_quart  gdp_quart_growth  cpi  ppi  gdp_deflator  \\\n",
       "0  2010-01-01       76.1        NaN               NaN  NaN  NaN           NaN   \n",
       "1  2010-01-02       76.1        NaN               NaN  NaN  NaN           NaN   \n",
       "2  2010-01-03       76.1        NaN               NaN  NaN  NaN           NaN   \n",
       "3  2010-01-04       76.1        NaN               NaN  NaN  NaN           NaN   \n",
       "4  2010-01-05       76.1        NaN               NaN  NaN  NaN           NaN   \n",
       "\n",
       "   balance_trade  balance_trade_growth  usdrub  ...  \\\n",
       "0            NaN                   NaN     NaN  ...   \n",
       "1            NaN                   NaN     NaN  ...   \n",
       "2            NaN                   NaN     NaN  ...   \n",
       "3            NaN                   NaN  29.905  ...   \n",
       "4            NaN                   NaN  29.836  ...   \n",
       "\n",
       "   provision_retail_space_modern_sqm  turnover_catering_per_cap  \\\n",
       "0                              690.0                     6221.0   \n",
       "1                              690.0                     6221.0   \n",
       "2                              690.0                     6221.0   \n",
       "3                              690.0                     6221.0   \n",
       "4                              690.0                     6221.0   \n",
       "\n",
       "   theaters_viewers_per_1000_cap  seats_theather_rfmin_per_100000_cap  \\\n",
       "0                          527.0                                 0.41   \n",
       "1                          527.0                                 0.41   \n",
       "2                          527.0                                 0.41   \n",
       "3                          527.0                                 0.41   \n",
       "4                          527.0                                 0.41   \n",
       "\n",
       "   museum_visitis_per_100_cap  bandwidth_sports  population_reg_sports_share  \\\n",
       "0                       993.0               NaN                          NaN   \n",
       "1                       993.0               NaN                          NaN   \n",
       "2                       993.0               NaN                          NaN   \n",
       "3                       993.0               NaN                          NaN   \n",
       "4                       993.0               NaN                          NaN   \n",
       "\n",
       "   students_reg_sports_share  apartment_build  apartment_fund_sqm  \n",
       "0                      63.03          22825.0                 NaN  \n",
       "1                      63.03          22825.0                 NaN  \n",
       "2                      63.03          22825.0                 NaN  \n",
       "3                      63.03          22825.0                 NaN  \n",
       "4                      63.03          22825.0                 NaN  \n",
       "\n",
       "[5 rows x 100 columns]"
      ]
     },
     "execution_count": 4,
     "metadata": {},
     "output_type": "execute_result"
    }
   ],
   "source": [
    "macro.head()"
   ]
  },
  {
   "cell_type": "markdown",
   "metadata": {},
   "source": [
    "## Train Data cleaning"
   ]
  },
  {
   "cell_type": "markdown",
   "metadata": {},
   "source": [
    "Here are the non-numeric data types for train. We want to remove sub_area because our training dataset cannot contain any dummified variables for the geographic location of the properties. 'id' and 'timestamp' can be removed because these won't contribute to the model. "
   ]
  },
  {
   "cell_type": "code",
   "execution_count": 5,
   "metadata": {},
   "outputs": [
    {
     "data": {
      "text/html": [
       "<div>\n",
       "<style scoped>\n",
       "    .dataframe tbody tr th:only-of-type {\n",
       "        vertical-align: middle;\n",
       "    }\n",
       "\n",
       "    .dataframe tbody tr th {\n",
       "        vertical-align: top;\n",
       "    }\n",
       "\n",
       "    .dataframe thead th {\n",
       "        text-align: right;\n",
       "    }\n",
       "</style>\n",
       "<table border=\"1\" class=\"dataframe\">\n",
       "  <thead>\n",
       "    <tr style=\"text-align: right;\">\n",
       "      <th></th>\n",
       "      <th>timestamp</th>\n",
       "      <th>product_type</th>\n",
       "      <th>sub_area</th>\n",
       "      <th>culture_objects_top_25</th>\n",
       "      <th>thermal_power_plant_raion</th>\n",
       "      <th>incineration_raion</th>\n",
       "      <th>oil_chemistry_raion</th>\n",
       "      <th>radiation_raion</th>\n",
       "      <th>railroad_terminal_raion</th>\n",
       "      <th>big_market_raion</th>\n",
       "      <th>nuclear_reactor_raion</th>\n",
       "      <th>detention_facility_raion</th>\n",
       "      <th>water_1line</th>\n",
       "      <th>big_road1_1line</th>\n",
       "      <th>railroad_1line</th>\n",
       "      <th>ecology</th>\n",
       "    </tr>\n",
       "  </thead>\n",
       "  <tbody>\n",
       "    <tr>\n",
       "      <th>0</th>\n",
       "      <td>2011-08-20</td>\n",
       "      <td>Investment</td>\n",
       "      <td>Bibirevo</td>\n",
       "      <td>no</td>\n",
       "      <td>no</td>\n",
       "      <td>no</td>\n",
       "      <td>no</td>\n",
       "      <td>no</td>\n",
       "      <td>no</td>\n",
       "      <td>no</td>\n",
       "      <td>no</td>\n",
       "      <td>no</td>\n",
       "      <td>no</td>\n",
       "      <td>no</td>\n",
       "      <td>no</td>\n",
       "      <td>good</td>\n",
       "    </tr>\n",
       "    <tr>\n",
       "      <th>1</th>\n",
       "      <td>2011-08-23</td>\n",
       "      <td>Investment</td>\n",
       "      <td>Nagatinskij Zaton</td>\n",
       "      <td>yes</td>\n",
       "      <td>no</td>\n",
       "      <td>no</td>\n",
       "      <td>no</td>\n",
       "      <td>no</td>\n",
       "      <td>no</td>\n",
       "      <td>no</td>\n",
       "      <td>no</td>\n",
       "      <td>no</td>\n",
       "      <td>no</td>\n",
       "      <td>no</td>\n",
       "      <td>no</td>\n",
       "      <td>excellent</td>\n",
       "    </tr>\n",
       "  </tbody>\n",
       "</table>\n",
       "</div>"
      ],
      "text/plain": [
       "    timestamp product_type           sub_area culture_objects_top_25  \\\n",
       "0  2011-08-20   Investment           Bibirevo                     no   \n",
       "1  2011-08-23   Investment  Nagatinskij Zaton                    yes   \n",
       "\n",
       "  thermal_power_plant_raion incineration_raion oil_chemistry_raion  \\\n",
       "0                        no                 no                  no   \n",
       "1                        no                 no                  no   \n",
       "\n",
       "  radiation_raion railroad_terminal_raion big_market_raion  \\\n",
       "0              no                      no               no   \n",
       "1              no                      no               no   \n",
       "\n",
       "  nuclear_reactor_raion detention_facility_raion water_1line big_road1_1line  \\\n",
       "0                    no                       no          no              no   \n",
       "1                    no                       no          no              no   \n",
       "\n",
       "  railroad_1line    ecology  \n",
       "0             no       good  \n",
       "1             no  excellent  "
      ]
     },
     "execution_count": 5,
     "metadata": {},
     "output_type": "execute_result"
    }
   ],
   "source": [
    "train.select_dtypes('O').head(2)"
   ]
  },
  {
   "cell_type": "code",
   "execution_count": 6,
   "metadata": {},
   "outputs": [],
   "source": [
    "train = train.drop([\"id\", \"sub_area\"], axis=1)"
   ]
  },
  {
   "cell_type": "markdown",
   "metadata": {},
   "source": [
    "Now we want to fill in missing data, because there are a lot of observations with NA. I will just fill them in with the average of each column. "
   ]
  },
  {
   "cell_type": "code",
   "execution_count": 7,
   "metadata": {},
   "outputs": [],
   "source": [
    "train = train.fillna(train.mean())"
   ]
  },
  {
   "cell_type": "markdown",
   "metadata": {},
   "source": [
    "Now we will fix some data quality issues."
   ]
  },
  {
   "cell_type": "markdown",
   "metadata": {},
   "source": [
    "The \"state\" column has a data entry error. Values should be discrete from 1-4, but there is one value with 33. I will replace the value with the mode. "
   ]
  },
  {
   "cell_type": "code",
   "execution_count": 8,
   "metadata": {},
   "outputs": [],
   "source": [
    "# round all values to integers\n",
    "train.loc[:, \"state\"] = np.round(train[\"state\"]).astype('int')"
   ]
  },
  {
   "cell_type": "code",
   "execution_count": 9,
   "metadata": {},
   "outputs": [],
   "source": [
    "train.at[(train[\"state\"] == 33).argmax(), \"state\"] = train[\"state\"].mode()"
   ]
  },
  {
   "cell_type": "markdown",
   "metadata": {},
   "source": [
    "The 'state' variable is coded as numerical but is actually categorical. Trick pandas into saving it as a string."
   ]
  },
  {
   "cell_type": "code",
   "execution_count": 10,
   "metadata": {},
   "outputs": [],
   "source": [
    "train['state'] = train['state'].apply(lambda n: \"'\" + str(n) + \"'\")"
   ]
  },
  {
   "cell_type": "markdown",
   "metadata": {},
   "source": [
    "### Macro Data Cleaning"
   ]
  },
  {
   "cell_type": "markdown",
   "metadata": {},
   "source": [
    "Here are the non-numeric columns for macro. "
   ]
  },
  {
   "cell_type": "code",
   "execution_count": 11,
   "metadata": {},
   "outputs": [
    {
     "data": {
      "text/html": [
       "<div>\n",
       "<style scoped>\n",
       "    .dataframe tbody tr th:only-of-type {\n",
       "        vertical-align: middle;\n",
       "    }\n",
       "\n",
       "    .dataframe tbody tr th {\n",
       "        vertical-align: top;\n",
       "    }\n",
       "\n",
       "    .dataframe thead th {\n",
       "        text-align: right;\n",
       "    }\n",
       "</style>\n",
       "<table border=\"1\" class=\"dataframe\">\n",
       "  <thead>\n",
       "    <tr style=\"text-align: right;\">\n",
       "      <th></th>\n",
       "      <th>timestamp</th>\n",
       "      <th>child_on_acc_pre_school</th>\n",
       "      <th>modern_education_share</th>\n",
       "      <th>old_education_build_share</th>\n",
       "    </tr>\n",
       "  </thead>\n",
       "  <tbody>\n",
       "    <tr>\n",
       "      <th>0</th>\n",
       "      <td>2010-01-01</td>\n",
       "      <td>45,713</td>\n",
       "      <td>NaN</td>\n",
       "      <td>NaN</td>\n",
       "    </tr>\n",
       "    <tr>\n",
       "      <th>1</th>\n",
       "      <td>2010-01-02</td>\n",
       "      <td>45,713</td>\n",
       "      <td>NaN</td>\n",
       "      <td>NaN</td>\n",
       "    </tr>\n",
       "  </tbody>\n",
       "</table>\n",
       "</div>"
      ],
      "text/plain": [
       "    timestamp child_on_acc_pre_school modern_education_share  \\\n",
       "0  2010-01-01                  45,713                    NaN   \n",
       "1  2010-01-02                  45,713                    NaN   \n",
       "\n",
       "  old_education_build_share  \n",
       "0                       NaN  \n",
       "1                       NaN  "
      ]
     },
     "execution_count": 11,
     "metadata": {},
     "output_type": "execute_result"
    }
   ],
   "source": [
    "macro.select_dtypes('O').head(2)"
   ]
  },
  {
   "cell_type": "markdown",
   "metadata": {},
   "source": [
    "The 3 columns above have weird values in them, seems like they're supposed to be numeric but have commas. Tried to look online but didn't find much information about what the columns actually mean. Will drop these from the dataset because they likely do not contribute much to sale price."
   ]
  },
  {
   "cell_type": "code",
   "execution_count": 12,
   "metadata": {},
   "outputs": [],
   "source": [
    "macro = macro.drop([\"child_on_acc_pre_school\", \"modern_education_share\", \"old_education_build_share\"], axis=1)"
   ]
  },
  {
   "cell_type": "markdown",
   "metadata": {},
   "source": [
    "Now we want to fill in missing data, because there are a lot of observations with NA. I will just fill them in with the average of each column. "
   ]
  },
  {
   "cell_type": "code",
   "execution_count": 13,
   "metadata": {},
   "outputs": [],
   "source": [
    "macro = macro.fillna(macro.mean())"
   ]
  },
  {
   "cell_type": "markdown",
   "metadata": {},
   "source": [
    "## Combine data into one dataframe on timestamp"
   ]
  },
  {
   "cell_type": "code",
   "execution_count": 14,
   "metadata": {},
   "outputs": [],
   "source": [
    "train_columns = set(train.columns)\n",
    "macro_columns = set(macro.columns)"
   ]
  },
  {
   "cell_type": "code",
   "execution_count": 15,
   "metadata": {},
   "outputs": [],
   "source": [
    "train[\"timestamp\"] = train[\"timestamp\"].astype(\"string\")"
   ]
  },
  {
   "cell_type": "code",
   "execution_count": 16,
   "metadata": {},
   "outputs": [],
   "source": [
    "macro[\"timestamp\"] = macro[\"timestamp\"].astype('string')"
   ]
  },
  {
   "cell_type": "code",
   "execution_count": 17,
   "metadata": {},
   "outputs": [],
   "source": [
    "train_macro = train.join(macro.set_index('timestamp'), on=\"timestamp\", how=\"left\", rsuffix=\"_macro\")\n",
    "\n",
    "# drop timestamp because it is no longer needed\n",
    "train_macro = train_macro.drop(\"timestamp\", axis=1)"
   ]
  },
  {
   "cell_type": "code",
   "execution_count": 18,
   "metadata": {},
   "outputs": [
    {
     "data": {
      "text/plain": [
       "0"
      ]
     },
     "execution_count": 18,
     "metadata": {},
     "output_type": "execute_result"
    }
   ],
   "source": [
    "# check for NA in train_macro\n",
    "train_macro.isna().sum().sum()"
   ]
  },
  {
   "cell_type": "markdown",
   "metadata": {},
   "source": [
    "## Standardizing Data"
   ]
  },
  {
   "cell_type": "markdown",
   "metadata": {},
   "source": [
    "Standardize train + macro data"
   ]
  },
  {
   "cell_type": "code",
   "execution_count": 19,
   "metadata": {},
   "outputs": [],
   "source": [
    "# only standardize the numeric columns\n",
    "train_macro_numeric_columns = train_macro.select_dtypes(['int', 'float']).columns"
   ]
  },
  {
   "cell_type": "code",
   "execution_count": 20,
   "metadata": {},
   "outputs": [],
   "source": [
    "standard_scaler = preprocessing.StandardScaler()\n",
    "train_macro[train_macro_numeric_columns] = standard_scaler.fit_transform(train_macro[train_macro_numeric_columns])"
   ]
  },
  {
   "cell_type": "markdown",
   "metadata": {},
   "source": [
    "## Save data for analysis in R"
   ]
  },
  {
   "cell_type": "code",
   "execution_count": 21,
   "metadata": {},
   "outputs": [],
   "source": [
    "# after standardizing above, separate train and macro into separate files again for analysis outside of this notebook \n",
    "train_subset = train_macro.filter(train.columns, axis=1)\n",
    "macro_subset = train_macro.filter(macro.columns, axis=1)"
   ]
  },
  {
   "cell_type": "code",
   "execution_count": 22,
   "metadata": {},
   "outputs": [],
   "source": [
    "train_subset.to_csv(\"/train_cleaned.csv\", index=False)\n",
    "macro_subset.to_csv(\"/macro_cleaned.csv\", index=False)\n",
    "train_macro.to_csv(\"/train_macro.csv\", index=False)"
   ]
  },
  {
   "cell_type": "code",
   "execution_count": null,
   "metadata": {},
   "outputs": [],
   "source": []
  },
  {
   "cell_type": "markdown",
   "metadata": {},
   "source": [
    "# Selecting the best features using only data from Train"
   ]
  },
  {
   "cell_type": "code",
   "execution_count": 2,
   "metadata": {},
   "outputs": [],
   "source": [
    "train = pd.read_csv(\"train_cleaned.csv\")\n",
    "macro = pd.read_csv(\"macro_cleaned.csv\")\n",
    "train_macro = pd.read_csv(\"train_macro.csv\")"
   ]
  },
  {
   "cell_type": "code",
   "execution_count": 3,
   "metadata": {},
   "outputs": [],
   "source": [
    "X_train = pd.get_dummies(train.drop(\"price_doc\", axis=1)) \n",
    "y_train = train[\"price_doc\"]\n",
    "\n",
    "max_train_features = 40\n",
    "max_macro_features = 10\n",
    "max_total_features = max_train_features + max_macro_features"
   ]
  },
  {
   "cell_type": "markdown",
   "metadata": {},
   "source": [
    "## Univariate Feature Selection"
   ]
  },
  {
   "cell_type": "code",
   "execution_count": 4,
   "metadata": {},
   "outputs": [],
   "source": [
    "fit = SelectKBest(f_regression, k=max_train_features).fit(X_train, y_train)\n",
    "feature_scores = pd.Series(fit.scores_, index=X_train.columns)\n",
    "top_40_features_k_best = feature_scores.nlargest(n=max_train_features).index"
   ]
  },
  {
   "cell_type": "code",
   "execution_count": 5,
   "metadata": {},
   "outputs": [
    {
     "data": {
      "text/plain": [
       "Index(['num_room', 'full_sq', 'sport_count_5000', 'sport_count_3000',\n",
       "       'trc_count_5000', 'zd_vokzaly_avto_km', 'sadovoe_km', 'kremlin_km',\n",
       "       'bulvar_ring_km', 'sport_count_2000', 'ttk_km', 'office_sqm_5000',\n",
       "       'trc_sqm_5000', 'sport_count_1500', 'nuclear_reactor_km',\n",
       "       'sport_objects_raion', 'trc_count_3000', 'cafe_count_5000_price_1000',\n",
       "       'stadium_km', 'cafe_count_5000_price_1500', 'cafe_count_5000',\n",
       "       'cafe_count_5000_na_price', 'ecology_no data',\n",
       "       'cafe_count_5000_price_500', 'office_sqm_3000',\n",
       "       'cafe_count_5000_price_2500', 'trc_sqm_3000', 'basketball_km',\n",
       "       'office_km', 'detention_facility_km', 'office_count_5000',\n",
       "       'university_km', 'office_sqm_2000', 'theater_km',\n",
       "       'cafe_count_5000_price_high', 'church_count_5000', 'swim_pool_km',\n",
       "       'catering_km', 'thermal_power_plant_km', 'cafe_count_5000_price_4000'],\n",
       "      dtype='object')"
      ]
     },
     "execution_count": 5,
     "metadata": {},
     "output_type": "execute_result"
    }
   ],
   "source": [
    "top_40_features_k_best"
   ]
  },
  {
   "cell_type": "markdown",
   "metadata": {},
   "source": [
    "## Feature Importance"
   ]
  },
  {
   "cell_type": "code",
   "execution_count": 6,
   "metadata": {},
   "outputs": [
    {
     "data": {
      "text/plain": [
       "ExtraTreesRegressor(n_jobs=-1)"
      ]
     },
     "execution_count": 6,
     "metadata": {},
     "output_type": "execute_result"
    }
   ],
   "source": [
    "model = RandomForestRegressor(n_jobs=-1)\n",
    "model.fit(X_train, y_train)"
   ]
  },
  {
   "cell_type": "code",
   "execution_count": 7,
   "metadata": {},
   "outputs": [],
   "source": [
    "feature_scores = pd.Series(model.feature_importances_, index=X_train.columns)\n",
    "top_40_features_feature_importance = feature_scores.nlargest(max_train_features).index"
   ]
  },
  {
   "cell_type": "code",
   "execution_count": 8,
   "metadata": {},
   "outputs": [
    {
     "data": {
      "text/plain": [
       "Index(['full_sq', 'num_room', 'life_sq', 'floor', 'state_'4'', 'kitch_sq',\n",
       "       'cafe_count_3000_price_2500', 'sport_count_5000',\n",
       "       'cafe_count_5000_price_2500', 'cafe_count_3000',\n",
       "       'product_type_OwnerOccupier', 'state_'2'', 'max_floor',\n",
       "       'cafe_count_2000_price_2500', 'cafe_count_5000_price_1500',\n",
       "       'cafe_count_2000_price_1000', 'product_type_Investment',\n",
       "       'cafe_count_5000', 'office_sqm_5000', 'cafe_count_5000_price_high',\n",
       "       'cafe_count_3000_price_1500', 'trc_count_3000', 'material',\n",
       "       'cafe_count_2000', 'build_year', 'kindergarten_km',\n",
       "       'cafe_count_3000_price_1000', 'cafe_count_2000_price_1500',\n",
       "       'sport_count_3000', 'cafe_count_1500', 'cafe_count_5000_price_1000',\n",
       "       'trc_count_2000', 'industrial_km', 'state_'3'',\n",
       "       'ID_railroad_station_walk', 'cafe_count_3000_price_high',\n",
       "       'cafe_count_3000_price_500', 'cafe_count_1500_price_1000',\n",
       "       'cafe_count_1000_price_2500', 'culture_objects_top_25_no'],\n",
       "      dtype='object')"
      ]
     },
     "execution_count": 8,
     "metadata": {},
     "output_type": "execute_result"
    }
   ],
   "source": [
    "top_40_features_feature_importance"
   ]
  },
  {
   "cell_type": "code",
   "execution_count": 9,
   "metadata": {},
   "outputs": [
    {
     "data": {
      "text/plain": [
       "{'cafe_count_5000',\n",
       " 'cafe_count_5000_price_1000',\n",
       " 'cafe_count_5000_price_1500',\n",
       " 'cafe_count_5000_price_2500',\n",
       " 'cafe_count_5000_price_high',\n",
       " 'full_sq',\n",
       " 'num_room',\n",
       " 'office_sqm_5000',\n",
       " 'sport_count_3000',\n",
       " 'sport_count_5000',\n",
       " 'trc_count_3000'}"
      ]
     },
     "execution_count": 9,
     "metadata": {},
     "output_type": "execute_result"
    }
   ],
   "source": [
    "set(top_40_features_feature_importance).intersection(set(top_40_features_k_best))"
   ]
  },
  {
   "cell_type": "markdown",
   "metadata": {},
   "source": [
    "## Correlation"
   ]
  },
  {
   "cell_type": "code",
   "execution_count": 10,
   "metadata": {},
   "outputs": [],
   "source": [
    "top_40_features_correlation = train.corr()['price_doc'].nlargest(n=max_train_features+1).index[1:] # price_doc is included in correlation, so need top 41 features"
   ]
  },
  {
   "cell_type": "code",
   "execution_count": 11,
   "metadata": {},
   "outputs": [
    {
     "data": {
      "text/plain": [
       "Index(['num_room', 'full_sq', 'sport_count_5000', 'sport_count_3000',\n",
       "       'trc_count_5000', 'sport_count_2000', 'office_sqm_5000', 'trc_sqm_5000',\n",
       "       'sport_count_1500', 'sport_objects_raion', 'trc_count_3000',\n",
       "       'cafe_count_5000_price_1000', 'cafe_count_5000_price_1500',\n",
       "       'cafe_count_5000', 'cafe_count_5000_na_price',\n",
       "       'cafe_count_5000_price_500', 'office_sqm_3000',\n",
       "       'cafe_count_5000_price_2500', 'trc_sqm_3000', 'office_count_5000',\n",
       "       'office_sqm_2000', 'cafe_count_5000_price_high', 'church_count_5000',\n",
       "       'cafe_count_5000_price_4000', 'leisure_count_5000',\n",
       "       'big_church_count_5000', 'sport_count_1000', 'office_sqm_1500',\n",
       "       'market_count_5000', 'school_education_centers_raion',\n",
       "       'healthcare_centers_raion', 'office_count_500', 'trc_count_2000',\n",
       "       'ekder_male', 'cafe_count_500_price_1000', 'office_count_1000',\n",
       "       'mosque_count_5000', 'ekder_all', 'cafe_count_1000_price_high',\n",
       "       'ekder_female'],\n",
       "      dtype='object')"
      ]
     },
     "execution_count": 11,
     "metadata": {},
     "output_type": "execute_result"
    }
   ],
   "source": [
    "top_40_features_correlation "
   ]
  },
  {
   "cell_type": "markdown",
   "metadata": {},
   "source": [
    "# Selecting the best features using only data from Macro"
   ]
  },
  {
   "cell_type": "code",
   "execution_count": 12,
   "metadata": {},
   "outputs": [],
   "source": [
    "X_train = pd.get_dummies(macro) # macro shouldn't have any categorical features\n",
    "y_train = train[\"price_doc\"]"
   ]
  },
  {
   "cell_type": "markdown",
   "metadata": {},
   "source": [
    "## Univariate Feature Selection"
   ]
  },
  {
   "cell_type": "code",
   "execution_count": 13,
   "metadata": {},
   "outputs": [],
   "source": [
    "fit = SelectKBest(f_regression, k=max_macro_features).fit(X_train, y_train)\n",
    "feature_scores = pd.Series(fit.scores_, index=X_train.columns)\n",
    "top_10_features_k_best = feature_scores.nlargest(n=max_macro_features).index"
   ]
  },
  {
   "cell_type": "code",
   "execution_count": 14,
   "metadata": {},
   "outputs": [
    {
     "data": {
      "text/plain": [
       "Index(['bandwidth_sports', 'fixed_basket', 'provision_doctors', 'cpi',\n",
       "       'gdp_annual_growth', 'salary', 'gdp_deflator',\n",
       "       'load_of_teachers_school_per_teacher', 'turnover_catering_per_cap',\n",
       "       'deposits_value'],\n",
       "      dtype='object')"
      ]
     },
     "execution_count": 14,
     "metadata": {},
     "output_type": "execute_result"
    }
   ],
   "source": [
    "top_10_features_k_best"
   ]
  },
  {
   "cell_type": "markdown",
   "metadata": {},
   "source": [
    "## Feature Importance"
   ]
  },
  {
   "cell_type": "code",
   "execution_count": 15,
   "metadata": {},
   "outputs": [
    {
     "data": {
      "text/plain": [
       "ExtraTreesRegressor(n_jobs=-1)"
      ]
     },
     "execution_count": 15,
     "metadata": {},
     "output_type": "execute_result"
    }
   ],
   "source": [
    "model = RandomForestRegressor(n_jobs=-1)\n",
    "model.fit(X_train, y_train)"
   ]
  },
  {
   "cell_type": "code",
   "execution_count": 16,
   "metadata": {},
   "outputs": [],
   "source": [
    "feature_scores = pd.Series(model.feature_importances_, index=X_train.columns)\n",
    "top_10_features_feature_importance = feature_scores.nlargest(max_macro_features).index"
   ]
  },
  {
   "cell_type": "code",
   "execution_count": 17,
   "metadata": {},
   "outputs": [
    {
     "data": {
      "text/plain": [
       "Index(['micex_cbi_tr', 'eurrub', 'micex', 'brent', 'micex_rgbi_tr', 'usdrub',\n",
       "       'rts', 'provision_doctors', 'employment', 'gdp_annual_growth'],\n",
       "      dtype='object')"
      ]
     },
     "execution_count": 17,
     "metadata": {},
     "output_type": "execute_result"
    }
   ],
   "source": [
    "top_10_features_feature_importance"
   ]
  },
  {
   "cell_type": "code",
   "execution_count": 18,
   "metadata": {},
   "outputs": [
    {
     "data": {
      "text/plain": [
       "{'gdp_annual_growth', 'provision_doctors'}"
      ]
     },
     "execution_count": 18,
     "metadata": {},
     "output_type": "execute_result"
    }
   ],
   "source": [
    "# does kbest and feature importance agree on the same variables?\n",
    "set(top_10_features_feature_importance).intersection(set(top_10_features_k_best))"
   ]
  },
  {
   "cell_type": "markdown",
   "metadata": {},
   "source": [
    "## Correlation"
   ]
  },
  {
   "cell_type": "code",
   "execution_count": 19,
   "metadata": {},
   "outputs": [],
   "source": [
    "macro = pd.concat([macro, y_train], axis=1) # add price_doc column to macro data "
   ]
  },
  {
   "cell_type": "code",
   "execution_count": 20,
   "metadata": {},
   "outputs": [],
   "source": [
    "top_10_features_correlation = macro.corr()['price_doc'].nlargest(n=max_macro_features+1).index[1:] # price_doc is included in correlation, so need top 41 features"
   ]
  },
  {
   "cell_type": "code",
   "execution_count": 21,
   "metadata": {},
   "outputs": [
    {
     "data": {
      "text/plain": [
       "Index(['bandwidth_sports', 'fixed_basket', 'cpi', 'salary', 'gdp_deflator',\n",
       "       'load_of_teachers_school_per_teacher', 'turnover_catering_per_cap',\n",
       "       'deposits_value', 'gdp_annual', 'labor_force'],\n",
       "      dtype='object')"
      ]
     },
     "execution_count": 21,
     "metadata": {},
     "output_type": "execute_result"
    }
   ],
   "source": [
    "top_10_features_correlation "
   ]
  },
  {
   "cell_type": "markdown",
   "metadata": {},
   "source": [
    "# Selecting the best features using data from Train and Macro at the same time\n",
    "We will select the best 50 features with no specific number of features from either dataset"
   ]
  },
  {
   "cell_type": "code",
   "execution_count": 22,
   "metadata": {},
   "outputs": [],
   "source": [
    "X_train = pd.get_dummies(train_macro.drop(\"price_doc\", axis=1)) \n",
    "y_train = train_macro[\"price_doc\"]"
   ]
  },
  {
   "cell_type": "code",
   "execution_count": 23,
   "metadata": {},
   "outputs": [],
   "source": [
    "def get_features(train_columns, macro_columns, all_columns):\n",
    "    num_train_features = 40\n",
    "    num_macro_features = 10\n",
    "    \n",
    "    train_features = []\n",
    "    macro_features = []\n",
    "       \n",
    "    for i,col in enumerate(all_columns):\n",
    "        if col in train_columns:\n",
    "            #print(i,\"train\",col)\n",
    "            train_features.append(col)\n",
    "            \n",
    "        elif col in macro_columns:\n",
    "            #print(i,\"macro\",col)\n",
    "            macro_features.append(col)\n",
    "            \n",
    "        if len(train_features) + len(macro_features) >= num_train_features + num_macro_features:\n",
    "            break\n",
    "            \n",
    "    return train_features, macro_features"
   ]
  },
  {
   "cell_type": "markdown",
   "metadata": {},
   "source": [
    "## Univariate Feature Selection"
   ]
  },
  {
   "cell_type": "code",
   "execution_count": 24,
   "metadata": {},
   "outputs": [],
   "source": [
    "fit = SelectKBest(f_regression, k=max_total_features).fit(X_train, y_train)\n",
    "feature_scores = pd.Series(fit.scores_, index=X_train.columns)\n",
    "top_features_k_best = feature_scores.nlargest(n=max_total_features).index"
   ]
  },
  {
   "cell_type": "code",
   "execution_count": 25,
   "metadata": {},
   "outputs": [
    {
     "data": {
      "text/plain": [
       "Index(['num_room', 'full_sq', 'sport_count_5000', 'sport_count_3000',\n",
       "       'trc_count_5000', 'zd_vokzaly_avto_km', 'sadovoe_km', 'kremlin_km',\n",
       "       'bulvar_ring_km', 'sport_count_2000', 'ttk_km', 'office_sqm_5000',\n",
       "       'trc_sqm_5000', 'sport_count_1500', 'nuclear_reactor_km',\n",
       "       'sport_objects_raion', 'trc_count_3000', 'cafe_count_5000_price_1000',\n",
       "       'stadium_km', 'cafe_count_5000_price_1500', 'cafe_count_5000',\n",
       "       'cafe_count_5000_na_price', 'ecology_no data',\n",
       "       'cafe_count_5000_price_500', 'office_sqm_3000',\n",
       "       'cafe_count_5000_price_2500', 'trc_sqm_3000', 'basketball_km',\n",
       "       'office_km', 'detention_facility_km', 'office_count_5000',\n",
       "       'university_km', 'office_sqm_2000', 'theater_km',\n",
       "       'cafe_count_5000_price_high', 'church_count_5000', 'swim_pool_km',\n",
       "       'catering_km', 'thermal_power_plant_km', 'cafe_count_5000_price_4000',\n",
       "       'workplaces_km', 'exhibition_km', 'leisure_count_5000',\n",
       "       'big_church_count_5000', 'sport_count_1000', 'museum_km',\n",
       "       'office_sqm_1500', 'market_count_5000',\n",
       "       'school_education_centers_raion', 'big_church_km'],\n",
       "      dtype='object')"
      ]
     },
     "execution_count": 25,
     "metadata": {},
     "output_type": "execute_result"
    }
   ],
   "source": [
    "top_features_k_best"
   ]
  },
  {
   "cell_type": "code",
   "execution_count": 26,
   "metadata": {},
   "outputs": [],
   "source": [
    "train_features, macro_features = get_features(train.columns, macro.columns, top_features_k_best)"
   ]
  },
  {
   "cell_type": "code",
   "execution_count": 27,
   "metadata": {},
   "outputs": [
    {
     "data": {
      "text/plain": [
       "array(['num_room', 'full_sq', 'sport_count_5000', 'sport_count_3000',\n",
       "       'trc_count_5000', 'zd_vokzaly_avto_km', 'sadovoe_km', 'kremlin_km',\n",
       "       'bulvar_ring_km', 'sport_count_2000', 'ttk_km', 'office_sqm_5000',\n",
       "       'trc_sqm_5000', 'sport_count_1500', 'nuclear_reactor_km',\n",
       "       'sport_objects_raion', 'trc_count_3000',\n",
       "       'cafe_count_5000_price_1000', 'stadium_km',\n",
       "       'cafe_count_5000_price_1500', 'cafe_count_5000',\n",
       "       'cafe_count_5000_na_price', 'cafe_count_5000_price_500',\n",
       "       'office_sqm_3000', 'cafe_count_5000_price_2500', 'trc_sqm_3000',\n",
       "       'basketball_km', 'office_km', 'detention_facility_km',\n",
       "       'office_count_5000', 'university_km', 'office_sqm_2000',\n",
       "       'theater_km', 'cafe_count_5000_price_high', 'church_count_5000',\n",
       "       'swim_pool_km', 'catering_km', 'thermal_power_plant_km',\n",
       "       'cafe_count_5000_price_4000', 'workplaces_km', 'exhibition_km',\n",
       "       'leisure_count_5000', 'big_church_count_5000', 'sport_count_1000',\n",
       "       'museum_km', 'office_sqm_1500', 'market_count_5000',\n",
       "       'school_education_centers_raion', 'big_church_km'], dtype='<U30')"
      ]
     },
     "execution_count": 27,
     "metadata": {},
     "output_type": "execute_result"
    }
   ],
   "source": [
    "np.array(train_features)"
   ]
  },
  {
   "cell_type": "code",
   "execution_count": 28,
   "metadata": {},
   "outputs": [
    {
     "data": {
      "text/plain": [
       "array([], dtype=float64)"
      ]
     },
     "execution_count": 28,
     "metadata": {},
     "output_type": "execute_result"
    }
   ],
   "source": [
    "np.array(macro_features)"
   ]
  },
  {
   "cell_type": "markdown",
   "metadata": {},
   "source": [
    "## Feature Importance"
   ]
  },
  {
   "cell_type": "code",
   "execution_count": 30,
   "metadata": {},
   "outputs": [
    {
     "data": {
      "text/plain": [
       "ExtraTreesRegressor(n_jobs=-1)"
      ]
     },
     "execution_count": 30,
     "metadata": {},
     "output_type": "execute_result"
    }
   ],
   "source": [
    "model = RandomForestRegressor(n_jobs=-1)\n",
    "model.fit(X_train, y_train)"
   ]
  },
  {
   "cell_type": "code",
   "execution_count": 31,
   "metadata": {},
   "outputs": [],
   "source": [
    "feature_scores = pd.Series(model.feature_importances_, index=X_train.columns)\n",
    "top_features_feature_importance = feature_scores.nlargest(max_total_features).index"
   ]
  },
  {
   "cell_type": "code",
   "execution_count": 32,
   "metadata": {},
   "outputs": [
    {
     "data": {
      "text/plain": [
       "Index(['full_sq', 'num_room', 'life_sq', 'state_'4'', 'kitch_sq',\n",
       "       'cafe_count_3000', 'cafe_count_2000', 'cafe_count_5000_price_high',\n",
       "       'sport_count_3000', 'cafe_count_3000_price_2500',\n",
       "       'cafe_count_5000_price_2500', 'product_type_OwnerOccupier',\n",
       "       'cafe_count_5000', 'max_floor', 'cafe_count_2000_price_2500',\n",
       "       'cafe_count_5000_price_1500', 'cafe_count_3000_price_1000',\n",
       "       'product_type_Investment', 'floor', 'office_sqm_5000',\n",
       "       'cafe_count_3000_price_1500', 'state_'2'', 'cafe_count_5000_price_1000',\n",
       "       'ID_railroad_station_walk', 'kindergarten_km', 'nuclear_reactor_km',\n",
       "       'cafe_count_5000_price_500', 'trc_count_3000',\n",
       "       'cafe_count_3000_price_high', 'cafe_count_2000_price_1000',\n",
       "       'sport_count_5000', 'culture_objects_top_25_yes', 'trc_count_2000',\n",
       "       'cafe_count_3000_price_500', 'office_count_5000', 'industrial_km',\n",
       "       'culture_objects_top_25_no', 'cafe_count_1000_price_2500',\n",
       "       'trc_sqm_3000', 'material', 'cafe_count_5000_price_4000',\n",
       "       'sport_count_2000', 'rent_price_3room_eco', 'trc_sqm_500',\n",
       "       'trc_count_5000', 'cafe_count_2000_price_1500',\n",
       "       'cafe_count_1500_price_2500', 'green_part_1000', 'trc_count_1000',\n",
       "       'build_year'],\n",
       "      dtype='object')"
      ]
     },
     "execution_count": 32,
     "metadata": {},
     "output_type": "execute_result"
    }
   ],
   "source": [
    "top_features_feature_importance"
   ]
  },
  {
   "cell_type": "code",
   "execution_count": 33,
   "metadata": {},
   "outputs": [
    {
     "data": {
      "text/plain": [
       "{'cafe_count_5000',\n",
       " 'cafe_count_5000_price_1000',\n",
       " 'cafe_count_5000_price_1500',\n",
       " 'cafe_count_5000_price_2500',\n",
       " 'cafe_count_5000_price_500',\n",
       " 'cafe_count_5000_price_high',\n",
       " 'full_sq',\n",
       " 'nuclear_reactor_km',\n",
       " 'num_room',\n",
       " 'office_count_5000',\n",
       " 'office_sqm_5000',\n",
       " 'sport_count_3000',\n",
       " 'sport_count_5000',\n",
       " 'trc_count_3000',\n",
       " 'trc_sqm_3000'}"
      ]
     },
     "execution_count": 33,
     "metadata": {},
     "output_type": "execute_result"
    }
   ],
   "source": [
    "# does kbest and feature importance agree on the same variables?\n",
    "set(top_features_feature_importance[:40]).intersection(set(top_features_k_best[:40]))"
   ]
  },
  {
   "cell_type": "code",
   "execution_count": 34,
   "metadata": {},
   "outputs": [],
   "source": [
    "train_features, macro_features = get_features(train.columns, macro.columns, top_features_feature_importance)"
   ]
  },
  {
   "cell_type": "code",
   "execution_count": 35,
   "metadata": {},
   "outputs": [
    {
     "data": {
      "text/plain": [
       "array(['full_sq', 'num_room', 'life_sq', 'kitch_sq', 'cafe_count_3000',\n",
       "       'cafe_count_2000', 'cafe_count_5000_price_high',\n",
       "       'sport_count_3000', 'cafe_count_3000_price_2500',\n",
       "       'cafe_count_5000_price_2500', 'cafe_count_5000', 'max_floor',\n",
       "       'cafe_count_2000_price_2500', 'cafe_count_5000_price_1500',\n",
       "       'cafe_count_3000_price_1000', 'floor', 'office_sqm_5000',\n",
       "       'cafe_count_3000_price_1500', 'cafe_count_5000_price_1000',\n",
       "       'ID_railroad_station_walk', 'kindergarten_km',\n",
       "       'nuclear_reactor_km', 'cafe_count_5000_price_500',\n",
       "       'trc_count_3000', 'cafe_count_3000_price_high',\n",
       "       'cafe_count_2000_price_1000', 'sport_count_5000', 'trc_count_2000',\n",
       "       'cafe_count_3000_price_500', 'office_count_5000', 'industrial_km',\n",
       "       'cafe_count_1000_price_2500', 'trc_sqm_3000', 'material',\n",
       "       'cafe_count_5000_price_4000', 'sport_count_2000', 'trc_sqm_500',\n",
       "       'trc_count_5000', 'cafe_count_2000_price_1500',\n",
       "       'cafe_count_1500_price_2500', 'green_part_1000', 'trc_count_1000',\n",
       "       'build_year'], dtype='<U26')"
      ]
     },
     "execution_count": 35,
     "metadata": {},
     "output_type": "execute_result"
    }
   ],
   "source": [
    "np.array(train_features)"
   ]
  },
  {
   "cell_type": "code",
   "execution_count": 36,
   "metadata": {},
   "outputs": [
    {
     "data": {
      "text/plain": [
       "array(['rent_price_3room_eco'], dtype='<U20')"
      ]
     },
     "execution_count": 36,
     "metadata": {},
     "output_type": "execute_result"
    }
   ],
   "source": [
    "np.array(macro_features)"
   ]
  },
  {
   "cell_type": "markdown",
   "metadata": {},
   "source": [
    "## Correlation"
   ]
  },
  {
   "cell_type": "code",
   "execution_count": 37,
   "metadata": {},
   "outputs": [],
   "source": [
    "top_features_correlation = train_macro.corr()['price_doc'].nlargest(n=max_total_features+1).index[1:] # price_doc is included in correlation, so need top 41 features"
   ]
  },
  {
   "cell_type": "code",
   "execution_count": 38,
   "metadata": {},
   "outputs": [
    {
     "data": {
      "text/plain": [
       "Index(['num_room', 'full_sq', 'sport_count_5000', 'sport_count_3000',\n",
       "       'trc_count_5000', 'sport_count_2000', 'office_sqm_5000', 'trc_sqm_5000',\n",
       "       'sport_count_1500', 'sport_objects_raion', 'trc_count_3000',\n",
       "       'cafe_count_5000_price_1000', 'cafe_count_5000_price_1500',\n",
       "       'cafe_count_5000', 'cafe_count_5000_na_price',\n",
       "       'cafe_count_5000_price_500', 'office_sqm_3000',\n",
       "       'cafe_count_5000_price_2500', 'trc_sqm_3000', 'office_count_5000',\n",
       "       'office_sqm_2000', 'cafe_count_5000_price_high', 'church_count_5000',\n",
       "       'cafe_count_5000_price_4000', 'leisure_count_5000',\n",
       "       'big_church_count_5000', 'sport_count_1000', 'office_sqm_1500',\n",
       "       'market_count_5000', 'school_education_centers_raion',\n",
       "       'healthcare_centers_raion', 'office_count_500', 'trc_count_2000',\n",
       "       'ekder_male', 'cafe_count_500_price_1000', 'office_count_1000',\n",
       "       'mosque_count_5000', 'ekder_all', 'cafe_count_1000_price_high',\n",
       "       'ekder_female', 'cafe_count_3000_price_1000', 'university_top_20_raion',\n",
       "       'cafe_count_3000_price_high', 'office_count_1500', 'build_count_brick',\n",
       "       'leisure_count_500', 'preschool_education_centers_raion',\n",
       "       'cafe_count_1000_price_1000', 'cafe_count_3000_na_price',\n",
       "       'office_count_3000'],\n",
       "      dtype='object')"
      ]
     },
     "execution_count": 38,
     "metadata": {},
     "output_type": "execute_result"
    }
   ],
   "source": [
    "top_features_correlation"
   ]
  },
  {
   "cell_type": "code",
   "execution_count": 39,
   "metadata": {},
   "outputs": [],
   "source": [
    "train_features, macro_features = get_features(train.columns, macro.columns, top_features_correlation)"
   ]
  },
  {
   "cell_type": "code",
   "execution_count": 40,
   "metadata": {},
   "outputs": [
    {
     "data": {
      "text/plain": [
       "array(['num_room', 'full_sq', 'sport_count_5000', 'sport_count_3000',\n",
       "       'trc_count_5000', 'sport_count_2000', 'office_sqm_5000',\n",
       "       'trc_sqm_5000', 'sport_count_1500', 'sport_objects_raion',\n",
       "       'trc_count_3000', 'cafe_count_5000_price_1000',\n",
       "       'cafe_count_5000_price_1500', 'cafe_count_5000',\n",
       "       'cafe_count_5000_na_price', 'cafe_count_5000_price_500',\n",
       "       'office_sqm_3000', 'cafe_count_5000_price_2500', 'trc_sqm_3000',\n",
       "       'office_count_5000', 'office_sqm_2000',\n",
       "       'cafe_count_5000_price_high', 'church_count_5000',\n",
       "       'cafe_count_5000_price_4000', 'leisure_count_5000',\n",
       "       'big_church_count_5000', 'sport_count_1000', 'office_sqm_1500',\n",
       "       'market_count_5000', 'school_education_centers_raion',\n",
       "       'healthcare_centers_raion', 'office_count_500', 'trc_count_2000',\n",
       "       'ekder_male', 'cafe_count_500_price_1000', 'office_count_1000',\n",
       "       'mosque_count_5000', 'ekder_all', 'cafe_count_1000_price_high',\n",
       "       'ekder_female', 'cafe_count_3000_price_1000',\n",
       "       'university_top_20_raion', 'cafe_count_3000_price_high',\n",
       "       'office_count_1500', 'build_count_brick', 'leisure_count_500',\n",
       "       'preschool_education_centers_raion', 'cafe_count_1000_price_1000',\n",
       "       'cafe_count_3000_na_price', 'office_count_3000'], dtype='<U33')"
      ]
     },
     "execution_count": 40,
     "metadata": {},
     "output_type": "execute_result"
    }
   ],
   "source": [
    "np.array(train_features)"
   ]
  },
  {
   "cell_type": "code",
   "execution_count": 41,
   "metadata": {},
   "outputs": [
    {
     "data": {
      "text/plain": [
       "array([], dtype=float64)"
      ]
     },
     "execution_count": 41,
     "metadata": {},
     "output_type": "execute_result"
    }
   ],
   "source": [
    "np.array(macro_features)"
   ]
  },
  {
   "cell_type": "code",
   "execution_count": null,
   "metadata": {},
   "outputs": [],
   "source": []
  }
 ],
 "metadata": {
  "environment": {
   "name": "common-cpu.m58",
   "type": "gcloud",
   "uri": "gcr.io/deeplearning-platform-release/base-cpu:m58"
  },
  "kernelspec": {
   "display_name": "Python 3",
   "language": "python",
   "name": "python3"
  },
  "language_info": {
   "codemirror_mode": {
    "name": "ipython",
    "version": 3
   },
   "file_extension": ".py",
   "mimetype": "text/x-python",
   "name": "python",
   "nbconvert_exporter": "python",
   "pygments_lexer": "ipython3",
   "version": "3.6.5"
  }
 },
 "nbformat": 4,
 "nbformat_minor": 4
}
