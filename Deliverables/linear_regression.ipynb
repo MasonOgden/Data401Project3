{
 "cells": [
  {
   "cell_type": "code",
   "execution_count": 1,
   "metadata": {},
   "outputs": [],
   "source": [
    "import pandas as pd\n",
    "import numpy as np\n",
    "\n",
    "import itertools\n",
    "\n",
    "from sklearn.linear_model import LinearRegression\n",
    "from sklearn.model_selection import cross_val_score"
   ]
  },
  {
   "cell_type": "markdown",
   "metadata": {},
   "source": [
    "## Load Data"
   ]
  },
  {
   "cell_type": "code",
   "execution_count": 2,
   "metadata": {},
   "outputs": [],
   "source": [
    "train_macro = pd.read_csv(\"~/DATA401-Project3/train_macro.csv\")"
   ]
  },
  {
   "cell_type": "code",
   "execution_count": 3,
   "metadata": {},
   "outputs": [
    {
     "data": {
      "text/html": [
       "<div>\n",
       "<style scoped>\n",
       "    .dataframe tbody tr th:only-of-type {\n",
       "        vertical-align: middle;\n",
       "    }\n",
       "\n",
       "    .dataframe tbody tr th {\n",
       "        vertical-align: top;\n",
       "    }\n",
       "\n",
       "    .dataframe thead th {\n",
       "        text-align: right;\n",
       "    }\n",
       "</style>\n",
       "<table border=\"1\" class=\"dataframe\">\n",
       "  <thead>\n",
       "    <tr style=\"text-align: right;\">\n",
       "      <th></th>\n",
       "      <th>full_sq</th>\n",
       "      <th>life_sq</th>\n",
       "      <th>floor</th>\n",
       "      <th>max_floor</th>\n",
       "      <th>material</th>\n",
       "      <th>build_year</th>\n",
       "      <th>num_room</th>\n",
       "      <th>kitch_sq</th>\n",
       "      <th>state</th>\n",
       "      <th>product_type</th>\n",
       "      <th>...</th>\n",
       "      <th>provision_retail_space_modern_sqm</th>\n",
       "      <th>turnover_catering_per_cap</th>\n",
       "      <th>theaters_viewers_per_1000_cap</th>\n",
       "      <th>seats_theather_rfmin_per_100000_cap</th>\n",
       "      <th>museum_visitis_per_100_cap</th>\n",
       "      <th>bandwidth_sports</th>\n",
       "      <th>population_reg_sports_share</th>\n",
       "      <th>students_reg_sports_share</th>\n",
       "      <th>apartment_build</th>\n",
       "      <th>apartment_fund_sqm</th>\n",
       "    </tr>\n",
       "  </thead>\n",
       "  <tbody>\n",
       "    <tr>\n",
       "      <th>0</th>\n",
       "      <td>-0.294873</td>\n",
       "      <td>-0.159255</td>\n",
       "      <td>-0.691912</td>\n",
       "      <td>0.0</td>\n",
       "      <td>0.0</td>\n",
       "      <td>0.0</td>\n",
       "      <td>3.147685e-16</td>\n",
       "      <td>3.794261e-17</td>\n",
       "      <td>'2'</td>\n",
       "      <td>Investment</td>\n",
       "      <td>...</td>\n",
       "      <td>-6.282208</td>\n",
       "      <td>-3.26676</td>\n",
       "      <td>-1.51348</td>\n",
       "      <td>1.063886</td>\n",
       "      <td>-0.802971</td>\n",
       "      <td>-1.75854</td>\n",
       "      <td>-2.099857</td>\n",
       "      <td>-1.531171</td>\n",
       "      <td>-4.523617</td>\n",
       "      <td>0.258671</td>\n",
       "    </tr>\n",
       "    <tr>\n",
       "      <th>1</th>\n",
       "      <td>-0.531523</td>\n",
       "      <td>-0.331346</td>\n",
       "      <td>-0.880403</td>\n",
       "      <td>0.0</td>\n",
       "      <td>0.0</td>\n",
       "      <td>0.0</td>\n",
       "      <td>3.147685e-16</td>\n",
       "      <td>3.794261e-17</td>\n",
       "      <td>'2'</td>\n",
       "      <td>Investment</td>\n",
       "      <td>...</td>\n",
       "      <td>-6.282208</td>\n",
       "      <td>-3.26676</td>\n",
       "      <td>-1.51348</td>\n",
       "      <td>1.063886</td>\n",
       "      <td>-0.802971</td>\n",
       "      <td>-1.75854</td>\n",
       "      <td>-2.099857</td>\n",
       "      <td>-1.531171</td>\n",
       "      <td>-4.523617</td>\n",
       "      <td>0.258671</td>\n",
       "    </tr>\n",
       "    <tr>\n",
       "      <th>2</th>\n",
       "      <td>-0.294873</td>\n",
       "      <td>-0.116232</td>\n",
       "      <td>-1.068893</td>\n",
       "      <td>0.0</td>\n",
       "      <td>0.0</td>\n",
       "      <td>0.0</td>\n",
       "      <td>3.147685e-16</td>\n",
       "      <td>3.794261e-17</td>\n",
       "      <td>'2'</td>\n",
       "      <td>Investment</td>\n",
       "      <td>...</td>\n",
       "      <td>-6.282208</td>\n",
       "      <td>-3.26676</td>\n",
       "      <td>-1.51348</td>\n",
       "      <td>1.063886</td>\n",
       "      <td>-0.802971</td>\n",
       "      <td>-1.75854</td>\n",
       "      <td>-2.099857</td>\n",
       "      <td>-1.531171</td>\n",
       "      <td>-4.523617</td>\n",
       "      <td>0.258671</td>\n",
       "    </tr>\n",
       "    <tr>\n",
       "      <th>3</th>\n",
       "      <td>0.914671</td>\n",
       "      <td>0.335508</td>\n",
       "      <td>0.250541</td>\n",
       "      <td>0.0</td>\n",
       "      <td>0.0</td>\n",
       "      <td>0.0</td>\n",
       "      <td>3.147685e-16</td>\n",
       "      <td>3.794261e-17</td>\n",
       "      <td>'2'</td>\n",
       "      <td>Investment</td>\n",
       "      <td>...</td>\n",
       "      <td>-6.282208</td>\n",
       "      <td>-3.26676</td>\n",
       "      <td>-1.51348</td>\n",
       "      <td>1.063886</td>\n",
       "      <td>-0.802971</td>\n",
       "      <td>-1.75854</td>\n",
       "      <td>-2.099857</td>\n",
       "      <td>-1.531171</td>\n",
       "      <td>-4.523617</td>\n",
       "      <td>0.258671</td>\n",
       "    </tr>\n",
       "    <tr>\n",
       "      <th>4</th>\n",
       "      <td>0.599138</td>\n",
       "      <td>0.916316</td>\n",
       "      <td>-0.691912</td>\n",
       "      <td>0.0</td>\n",
       "      <td>0.0</td>\n",
       "      <td>0.0</td>\n",
       "      <td>3.147685e-16</td>\n",
       "      <td>3.794261e-17</td>\n",
       "      <td>'2'</td>\n",
       "      <td>Investment</td>\n",
       "      <td>...</td>\n",
       "      <td>-6.282208</td>\n",
       "      <td>-3.26676</td>\n",
       "      <td>-1.51348</td>\n",
       "      <td>1.063886</td>\n",
       "      <td>-0.802971</td>\n",
       "      <td>-1.75854</td>\n",
       "      <td>-2.099857</td>\n",
       "      <td>-1.531171</td>\n",
       "      <td>-4.523617</td>\n",
       "      <td>0.258671</td>\n",
       "    </tr>\n",
       "  </tbody>\n",
       "</table>\n",
       "<p>5 rows × 385 columns</p>\n",
       "</div>"
      ],
      "text/plain": [
       "    full_sq   life_sq     floor  max_floor  material  build_year  \\\n",
       "0 -0.294873 -0.159255 -0.691912        0.0       0.0         0.0   \n",
       "1 -0.531523 -0.331346 -0.880403        0.0       0.0         0.0   \n",
       "2 -0.294873 -0.116232 -1.068893        0.0       0.0         0.0   \n",
       "3  0.914671  0.335508  0.250541        0.0       0.0         0.0   \n",
       "4  0.599138  0.916316 -0.691912        0.0       0.0         0.0   \n",
       "\n",
       "       num_room      kitch_sq state product_type  ...  \\\n",
       "0  3.147685e-16  3.794261e-17   '2'   Investment  ...   \n",
       "1  3.147685e-16  3.794261e-17   '2'   Investment  ...   \n",
       "2  3.147685e-16  3.794261e-17   '2'   Investment  ...   \n",
       "3  3.147685e-16  3.794261e-17   '2'   Investment  ...   \n",
       "4  3.147685e-16  3.794261e-17   '2'   Investment  ...   \n",
       "\n",
       "   provision_retail_space_modern_sqm  turnover_catering_per_cap  \\\n",
       "0                          -6.282208                   -3.26676   \n",
       "1                          -6.282208                   -3.26676   \n",
       "2                          -6.282208                   -3.26676   \n",
       "3                          -6.282208                   -3.26676   \n",
       "4                          -6.282208                   -3.26676   \n",
       "\n",
       "   theaters_viewers_per_1000_cap  seats_theather_rfmin_per_100000_cap  \\\n",
       "0                       -1.51348                             1.063886   \n",
       "1                       -1.51348                             1.063886   \n",
       "2                       -1.51348                             1.063886   \n",
       "3                       -1.51348                             1.063886   \n",
       "4                       -1.51348                             1.063886   \n",
       "\n",
       "   museum_visitis_per_100_cap  bandwidth_sports  population_reg_sports_share  \\\n",
       "0                   -0.802971          -1.75854                    -2.099857   \n",
       "1                   -0.802971          -1.75854                    -2.099857   \n",
       "2                   -0.802971          -1.75854                    -2.099857   \n",
       "3                   -0.802971          -1.75854                    -2.099857   \n",
       "4                   -0.802971          -1.75854                    -2.099857   \n",
       "\n",
       "   students_reg_sports_share  apartment_build  apartment_fund_sqm  \n",
       "0                  -1.531171        -4.523617            0.258671  \n",
       "1                  -1.531171        -4.523617            0.258671  \n",
       "2                  -1.531171        -4.523617            0.258671  \n",
       "3                  -1.531171        -4.523617            0.258671  \n",
       "4                  -1.531171        -4.523617            0.258671  \n",
       "\n",
       "[5 rows x 385 columns]"
      ]
     },
     "execution_count": 3,
     "metadata": {},
     "output_type": "execute_result"
    }
   ],
   "source": [
    "train_macro.head()"
   ]
  },
  {
   "cell_type": "markdown",
   "metadata": {},
   "source": [
    "## Prepare Feature Sets"
   ]
  },
  {
   "cell_type": "markdown",
   "metadata": {},
   "source": [
    "Load in all the feature sets from the previous notebook and find out which set performs the best in linear regression."
   ]
  },
  {
   "cell_type": "code",
   "execution_count": 4,
   "metadata": {},
   "outputs": [],
   "source": [
    "# train features from notebook 2 using SelectKBest methods\n",
    "train_feats_2_kbest = ['num_room', 'full_sq', 'sport_count_5000', 'sport_count_3000',\n",
    "                       'trc_count_5000', 'zd_vokzaly_avto_km', 'sadovoe_km', 'kremlin_km',\n",
    "                       'bulvar_ring_km', 'sport_count_2000', 'ttk_km', 'office_sqm_5000',\n",
    "                       'trc_sqm_5000', 'sport_count_1500', 'nuclear_reactor_km',\n",
    "                       'sport_objects_raion', 'trc_count_3000', 'cafe_count_5000_price_1000',\n",
    "                       'stadium_km', 'cafe_count_5000_price_1500', 'cafe_count_5000',\n",
    "                       'cafe_count_5000_na_price', 'ecology_no data',\n",
    "                       'cafe_count_5000_price_500', 'office_sqm_3000',\n",
    "                       'cafe_count_5000_price_2500', 'trc_sqm_3000', 'basketball_km',\n",
    "                       'office_km', 'detention_facility_km', 'office_count_5000',\n",
    "                       'university_km', 'office_sqm_2000', 'theater_km',\n",
    "                       'cafe_count_5000_price_high', 'church_count_5000', 'swim_pool_km',\n",
    "                       'catering_km', 'thermal_power_plant_km', 'cafe_count_5000_price_4000']\n",
    "\n",
    "train_feats_2_featimp = [\"full_sq\", \"num_room\", \"life_sq\", \"kitch_sq\", \"floor\", \"state_'4'\",\n",
    "                         \"state_'2'\", \"max_floor\", \"cafe_count_3000_price_2500\",\n",
    "                         \"cafe_count_3000\", \"product_type_Investment\", \"trc_count_3000\",\n",
    "                         \"cafe_count_2000\", \"cafe_count_5000_price_1500\",\n",
    "                         \"product_type_OwnerOccupier\", \"cafe_count_5000_price_2500\",\n",
    "                         \"cafe_count_5000_price_1000\", \"cafe_count_3000_price_high\",\n",
    "                         \"cafe_count_3000_price_1000\", \"cafe_count_5000\", \"build_year\",\n",
    "                         \"cafe_count_5000_price_high\", \"cafe_count_2000_price_2500\",\n",
    "                         \"cafe_count_3000_price_1500\", \"cafe_count_5000_price_4000\", \"material\",\n",
    "                         \"sport_count_3000\", \"office_count_5000\", \"office_sqm_5000\",\n",
    "                         \"cafe_count_1500_price_2500\", \"industrial_km\",\n",
    "                         \"cafe_count_3000_price_500\", \"trc_count_5000\", \"church_count_500\",\n",
    "                         \"cafe_count_1000_price_2500\", \"kindergarten_km\",\n",
    "                         \"ID_railroad_station_walk\", \"cafe_count_2000_price_1000\",\n",
    "                         \"cafe_count_2000_price_1500\", \"sport_count_5000\"]\n",
    "\n",
    "train_feats_2_corr = ['num_room', 'full_sq', 'sport_count_5000', 'sport_count_3000',\n",
    "                      'trc_count_5000', 'sport_count_2000', 'office_sqm_5000', 'trc_sqm_5000',\n",
    "                      'sport_count_1500', 'sport_objects_raion', 'trc_count_3000',\n",
    "                      'cafe_count_5000_price_1000', 'cafe_count_5000_price_1500',\n",
    "                      'cafe_count_5000', 'cafe_count_5000_na_price',\n",
    "                      'cafe_count_5000_price_500', 'office_sqm_3000',\n",
    "                      'cafe_count_5000_price_2500', 'trc_sqm_3000', 'office_count_5000',\n",
    "                      'office_sqm_2000', 'cafe_count_5000_price_high', 'church_count_5000',\n",
    "                      'cafe_count_5000_price_4000', 'leisure_count_5000',\n",
    "                      'big_church_count_5000', 'sport_count_1000', 'office_sqm_1500',\n",
    "                      'market_count_5000', 'school_education_centers_raion',\n",
    "                      'healthcare_centers_raion', 'office_count_500', 'trc_count_2000',\n",
    "                      'ekder_male', 'cafe_count_500_price_1000', 'office_count_1000',\n",
    "                      'mosque_count_5000', 'ekder_all', 'cafe_count_1000_price_high',\n",
    "                      'ekder_female']\n",
    "\n",
    "train_feats_4_kbest = ['num_room', 'full_sq', 'sport_count_5000', 'sport_count_3000', # noticed that this list and train_feats_2_corr are same\n",
    "                       'trc_count_5000', 'sport_count_2000', 'office_sqm_5000',\n",
    "                       'trc_sqm_5000', 'sport_count_1500', 'sport_objects_raion',\n",
    "                       'trc_count_3000', 'cafe_count_5000_price_1000',\n",
    "                       'cafe_count_5000_price_1500', 'cafe_count_5000',\n",
    "                       'cafe_count_5000_na_price', 'cafe_count_5000_price_500',\n",
    "                       'office_sqm_3000', 'cafe_count_5000_price_2500', 'trc_sqm_3000',\n",
    "                       'office_count_5000', 'office_sqm_2000',\n",
    "                       'cafe_count_5000_price_high', 'church_count_5000',\n",
    "                       'cafe_count_5000_price_4000', 'leisure_count_5000',\n",
    "                       'big_church_count_5000', 'sport_count_1000', 'office_sqm_1500',\n",
    "                       'market_count_5000', 'school_education_centers_raion',\n",
    "                       'healthcare_centers_raion', 'office_count_500', 'trc_count_2000',\n",
    "                       'ekder_male', 'cafe_count_500_price_1000', 'office_count_1000',\n",
    "                       'mosque_count_5000', 'ekder_all', 'cafe_count_1000_price_high',\n",
    "                       'ekder_female']\n",
    "\n",
    "train_feats_4_featimp = ['num_room', 'full_sq', 'sport_count_5000', 'sport_count_3000',\n",
    "                         'trc_count_5000', 'sport_count_2000', 'office_sqm_5000',\n",
    "                         'trc_sqm_5000', 'sport_count_1500', 'sport_objects_raion',\n",
    "                         'trc_count_3000', 'cafe_count_5000_price_1000',\n",
    "                         'cafe_count_5000_price_1500', 'cafe_count_5000',\n",
    "                         'cafe_count_5000_na_price', 'cafe_count_5000_price_500',\n",
    "                         'office_sqm_3000', 'cafe_count_5000_price_2500', 'trc_sqm_3000',\n",
    "                         'office_count_5000', 'office_sqm_2000',\n",
    "                         'cafe_count_5000_price_high', 'church_count_5000',\n",
    "                         'cafe_count_5000_price_4000', 'leisure_count_5000',\n",
    "                         'big_church_count_5000', 'sport_count_1000', 'office_sqm_1500',\n",
    "                         'market_count_5000', 'school_education_centers_raion',\n",
    "                         'healthcare_centers_raion', 'office_count_500', 'trc_count_2000',\n",
    "                         'ekder_male', 'cafe_count_500_price_1000', 'office_count_1000',\n",
    "                         'mosque_count_5000', 'ekder_all', 'cafe_count_1000_price_high',\n",
    "                         'ekder_female']\n",
    "\n",
    "train_feats_4_corr = ['num_room', 'full_sq', 'sport_count_5000', 'sport_count_3000', # same as train_feats_4_featimp\n",
    "                      'trc_count_5000', 'sport_count_2000', 'office_sqm_5000',\n",
    "                      'trc_sqm_5000', 'sport_count_1500', 'sport_objects_raion',\n",
    "                      'trc_count_3000', 'cafe_count_5000_price_1000',\n",
    "                      'cafe_count_5000_price_1500', 'cafe_count_5000',\n",
    "                      'cafe_count_5000_na_price', 'cafe_count_5000_price_500',\n",
    "                      'office_sqm_3000', 'cafe_count_5000_price_2500', 'trc_sqm_3000',\n",
    "                      'office_count_5000', 'office_sqm_2000',\n",
    "                      'cafe_count_5000_price_high', 'church_count_5000',\n",
    "                      'cafe_count_5000_price_4000', 'leisure_count_5000',\n",
    "                      'big_church_count_5000', 'sport_count_1000', 'office_sqm_1500',\n",
    "                      'market_count_5000', 'school_education_centers_raion',\n",
    "                      'healthcare_centers_raion', 'office_count_500', 'trc_count_2000',\n",
    "                      'ekder_male', 'cafe_count_500_price_1000', 'office_count_1000',\n",
    "                      'mosque_count_5000', 'ekder_all', 'cafe_count_1000_price_high',\n",
    "                      'ekder_female']\n",
    "\n",
    "all_train_feats = [train_feats_2_kbest, train_feats_2_featimp, train_feats_2_corr, \n",
    "                   train_feats_4_kbest, train_feats_4_featimp, train_feats_4_corr]"
   ]
  },
  {
   "cell_type": "code",
   "execution_count": 5,
   "metadata": {},
   "outputs": [],
   "source": [
    "macro_feats_3_kbest = ['bandwidth_sports', 'fixed_basket', 'provision_doctors', 'cpi',\n",
    "                       'gdp_annual_growth', 'salary', 'gdp_deflator',\n",
    "                       'load_of_teachers_school_per_teacher', 'turnover_catering_per_cap',\n",
    "                       'deposits_value']\n",
    "\n",
    "macro_feats_3_featimp = ['micex_cbi_tr', 'eurrub', 'micex', 'brent', 'usdrub', 'rts',\n",
    "                         'micex_rgbi_tr', 'gdp_annual_growth', 'average_life_exp', 'cpi']\n",
    "\n",
    "macro_feats_3_corr = ['bandwidth_sports', 'fixed_basket', 'cpi', 'salary', 'gdp_deflator',\n",
    "                      'load_of_teachers_school_per_teacher', 'turnover_catering_per_cap',\n",
    "                      'deposits_value', 'gdp_annual', 'labor_force']\n",
    "\n",
    "macro_feats_4_kbest = ['bandwidth_sports', 'fixed_basket', 'cpi', 'salary',\n",
    "                       'gdp_deflator', 'load_of_teachers_school_per_teacher',\n",
    "                       'turnover_catering_per_cap', 'deposits_value', 'gdp_annual',\n",
    "                       'labor_force']\n",
    "\n",
    "macro_feats_4_featimp = ['bandwidth_sports', 'fixed_basket', 'cpi', 'salary',\n",
    "                         'gdp_deflator', 'load_of_teachers_school_per_teacher',\n",
    "                         'turnover_catering_per_cap', 'deposits_value', 'gdp_annual',\n",
    "                         'labor_force']\n",
    "\n",
    "macro_feats_4_corr = ['bandwidth_sports', 'fixed_basket', 'cpi', 'salary',\n",
    "                      'gdp_deflator', 'load_of_teachers_school_per_teacher',\n",
    "                      'turnover_catering_per_cap', 'deposits_value', 'gdp_annual',\n",
    "                      'labor_force']\n",
    "\n",
    "all_macro_feats = [macro_feats_3_kbest, macro_feats_3_featimp, macro_feats_3_corr, \n",
    "                   macro_feats_4_kbest, macro_feats_4_featimp, macro_feats_4_corr]"
   ]
  },
  {
   "cell_type": "code",
   "execution_count": 6,
   "metadata": {},
   "outputs": [],
   "source": [
    "b_set = set(map(tuple,all_train_feats))  # need to convert the inner lists to tuples so they are hashable\n",
    "final_train_feats_list = list(map(list,b_set)) # now convert tuples back into lists \n",
    "\n",
    "b_set = set(map(tuple,all_macro_feats))  # need to convert the inner lists to tuples so they are hashable\n",
    "final_macro_feats_list = list(map(list,b_set)) # now convert tuples back into lists "
   ]
  },
  {
   "cell_type": "code",
   "execution_count": 7,
   "metadata": {},
   "outputs": [
    {
     "name": "stdout",
     "output_type": "stream",
     "text": [
      "3 3\n"
     ]
    }
   ],
   "source": [
    "# after removing duplicates\n",
    "print(len(final_train_feats_list), len(final_macro_feats_list))"
   ]
  },
  {
   "cell_type": "markdown",
   "metadata": {},
   "source": [
    "## Prepare data for Linear Regression"
   ]
  },
  {
   "cell_type": "code",
   "execution_count": 8,
   "metadata": {},
   "outputs": [],
   "source": [
    "y_train = train_macro[\"price_doc\"].to_numpy()\n",
    "\n",
    "results = dict()\n",
    "for train_feats,macro_feats in itertools.product(final_train_feats_list, final_macro_feats_list):\n",
    "    # combine list of train_feats and macro_feats\n",
    "    feats = train_feats + macro_feats\n",
    "    \n",
    "    # subset train_macro get only train_feats+macro+feats columns\n",
    "    X_train = pd.get_dummies(train_macro).filter(feats, axis=1)\n",
    "    \n",
    "    reg = LinearRegression(n_jobs=-1)\n",
    "    \n",
    "    rmses = cross_val_score(reg, X_train, y_train, scoring='neg_root_mean_squared_error', n_jobs=-1)\n",
    "    \n",
    "    key = abs(rmses).mean()\n",
    "    value = feats\n",
    "    \n",
    "    results[key] = value"
   ]
  },
  {
   "cell_type": "code",
   "execution_count": 9,
   "metadata": {},
   "outputs": [
    {
     "name": "stdout",
     "output_type": "stream",
     "text": [
      "Min RMSE: 0.9976251350098544\n",
      "Associated Feature List:\n",
      "['num_room', 'full_sq', 'sport_count_5000', 'sport_count_3000', 'trc_count_5000', 'zd_vokzaly_avto_km', 'sadovoe_km', 'kremlin_km', 'bulvar_ring_km', 'sport_count_2000', 'ttk_km', 'office_sqm_5000', 'trc_sqm_5000', 'sport_count_1500', 'nuclear_reactor_km', 'sport_objects_raion', 'trc_count_3000', 'cafe_count_5000_price_1000', 'stadium_km', 'cafe_count_5000_price_1500', 'cafe_count_5000', 'cafe_count_5000_na_price', 'ecology_no data', 'cafe_count_5000_price_500', 'office_sqm_3000', 'cafe_count_5000_price_2500', 'trc_sqm_3000', 'basketball_km', 'office_km', 'detention_facility_km', 'office_count_5000', 'university_km', 'office_sqm_2000', 'theater_km', 'cafe_count_5000_price_high', 'church_count_5000', 'swim_pool_km', 'catering_km', 'thermal_power_plant_km', 'cafe_count_5000_price_4000', 'bandwidth_sports', 'fixed_basket', 'provision_doctors', 'cpi', 'gdp_annual_growth', 'salary', 'gdp_deflator', 'load_of_teachers_school_per_teacher', 'turnover_catering_per_cap', 'deposits_value']\n"
     ]
    }
   ],
   "source": [
    "min_rmse = min(list(results.keys()))\n",
    "print(\"Min RMSE:\", min_rmse)\n",
    "\n",
    "feature_list = results[min_rmse] # feature list that gave us the smallest RMSE\n",
    "print(\"Associated Feature List:\")\n",
    "print(feature_list)"
   ]
  },
  {
   "cell_type": "markdown",
   "metadata": {},
   "source": [
    "Let's look at the R^2 score of the best model. "
   ]
  },
  {
   "cell_type": "code",
   "execution_count": 34,
   "metadata": {},
   "outputs": [
    {
     "data": {
      "text/plain": [
       "LinearRegression()"
      ]
     },
     "execution_count": 34,
     "metadata": {},
     "output_type": "execute_result"
    }
   ],
   "source": [
    "X_train = pd.get_dummies(train_macro).filter(feature_list, axis=1)\n",
    "y_train = train_macro[\"price_doc\"]\n",
    "\n",
    "reg = LinearRegression()\n",
    "\n",
    "reg.fit(X_train, y_train)"
   ]
  },
  {
   "cell_type": "code",
   "execution_count": 36,
   "metadata": {},
   "outputs": [
    {
     "data": {
      "text/plain": [
       "0.37579998494716493"
      ]
     },
     "execution_count": 36,
     "metadata": {},
     "output_type": "execute_result"
    }
   ],
   "source": [
    "reg.score(X_train, y_train)"
   ]
  },
  {
   "cell_type": "markdown",
   "metadata": {},
   "source": [
    "Save the feature set and the price_doc column to a file. "
   ]
  },
  {
   "cell_type": "code",
   "execution_count": 17,
   "metadata": {},
   "outputs": [],
   "source": [
    "train_macro_lemar_cols = pd.get_dummies(train_macro)[feature_list + [\"price_doc\"]] # also add price_doc to features for analysis in R"
   ]
  },
  {
   "cell_type": "code",
   "execution_count": 18,
   "metadata": {},
   "outputs": [],
   "source": [
    "train_macro_lemar_cols.to_csv(\"../train_macro_lemar_cols.csv\", index=False)"
   ]
  },
  {
   "cell_type": "markdown",
   "metadata": {},
   "source": [
    "After a forward/backward stepwise regression in R (notebook 2-Feature-Selection-1.Rmd) these columns were selected:"
   ]
  },
  {
   "cell_type": "code",
   "execution_count": 26,
   "metadata": {},
   "outputs": [],
   "source": [
    "selected_features = [\"num_room\",\"sport_count_5000\",\"full_sq\",\"salary\",\"nuclear_reactor_km\",\"office_sqm_5000\",\n",
    "                     \"office_count_5000\",\"cafe_count_5000_price_1500\",\"office_sqm_3000\",\"swim_pool_km\",\n",
    "                     \"sport_count_2000\",\"nuclear_reactor_km\",\"cafe_count_5000_price_2500\",\"cafe_count_5000\",\n",
    "                     \"cafe_count_5000_price_4000\",\"cafe_count_5000_price_high\",\"zd_vokzaly_avto_km\",\"kremlin_km\",\n",
    "                     \"sadovoe_km\",\"trc_count_3000\",\"cpi\",\"sport_objects_raion\",\"ttk_km\",\"thermal_power_plant_km\",\n",
    "                     \"bulvar_ring_km\",\"sport_count_3000\",\"sport_count_5000\",\"trc_sqm_5000\",\n",
    "                     \"cafe_count_5000_na_price\",\"sport_count_2000\",\"ecology_no.data\",\"church_count_5000\",\n",
    "                     \"catering_km\",\"turnover_catering_per_cap\",\"salary\",\"stadium_km\",\"provision_doctors\",\n",
    "                     \"trc_sqm_3000\",\"trc_count_5000\",\"trc_count_3000\",\"office_km\",\"basketball_km\",\n",
    "                     \"cafe_count_5000_price_500\"]"
   ]
  },
  {
   "cell_type": "code",
   "execution_count": 27,
   "metadata": {},
   "outputs": [
    {
     "data": {
      "text/plain": [
       "LinearRegression()"
      ]
     },
     "execution_count": 27,
     "metadata": {},
     "output_type": "execute_result"
    }
   ],
   "source": [
    "X_train = pd.get_dummies(train_macro).filter(selected_features, axis=1)\n",
    "y_train = train_macro[\"price_doc\"]\n",
    "\n",
    "reg = LinearRegression()\n",
    "\n",
    "reg.fit(X_train, y_train)"
   ]
  },
  {
   "cell_type": "code",
   "execution_count": 33,
   "metadata": {},
   "outputs": [
    {
     "data": {
      "text/plain": [
       "0.3743085015128025"
      ]
     },
     "execution_count": 33,
     "metadata": {},
     "output_type": "execute_result"
    }
   ],
   "source": [
    "reg.score(X_train, y_train)"
   ]
  },
  {
   "cell_type": "code",
   "execution_count": 30,
   "metadata": {},
   "outputs": [
    {
     "data": {
      "text/plain": [
       "0.9954358885658439"
      ]
     },
     "execution_count": 30,
     "metadata": {},
     "output_type": "execute_result"
    }
   ],
   "source": [
    "abs(cross_val_score(reg, X_train, y_train, scoring='neg_root_mean_squared_error', n_jobs=-1)).mean()"
   ]
  },
  {
   "cell_type": "code",
   "execution_count": 37,
   "metadata": {},
   "outputs": [
    {
     "data": {
      "text/plain": [
       "0       -0.215953\n",
       "1       -0.136546\n",
       "2       -0.295361\n",
       "3       -0.470058\n",
       "4        3.968828\n",
       "           ...   \n",
       "30466   -0.025375\n",
       "30467    3.841776\n",
       "30468   -0.493880\n",
       "30469   -0.049197\n",
       "30470   -0.319183\n",
       "Name: cafe_count_5000_price_500, Length: 30471, dtype: float64"
      ]
     },
     "execution_count": 37,
     "metadata": {},
     "output_type": "execute_result"
    }
   ],
   "source": [
    "pd.get_dummies(train_macro)[\"cafe_count_5000_price_500\"]"
   ]
  },
  {
   "cell_type": "code",
   "execution_count": 38,
   "metadata": {},
   "outputs": [
    {
     "data": {
      "text/plain": [
       "(30471, 405)"
      ]
     },
     "execution_count": 38,
     "metadata": {},
     "output_type": "execute_result"
    }
   ],
   "source": [
    "pd.get_dummies(train_macro).shape"
   ]
  },
  {
   "cell_type": "code",
   "execution_count": null,
   "metadata": {},
   "outputs": [],
   "source": []
  }
 ],
 "metadata": {
  "environment": {
   "name": "common-cpu.m58",
   "type": "gcloud",
   "uri": "gcr.io/deeplearning-platform-release/base-cpu:m58"
  },
  "kernelspec": {
   "display_name": "Python 3",
   "language": "python",
   "name": "python3"
  },
  "language_info": {
   "codemirror_mode": {
    "name": "ipython",
    "version": 3
   },
   "file_extension": ".py",
   "mimetype": "text/x-python",
   "name": "python",
   "nbconvert_exporter": "python",
   "pygments_lexer": "ipython3",
   "version": "3.6.5"
  }
 },
 "nbformat": 4,
 "nbformat_minor": 4
}
