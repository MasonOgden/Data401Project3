{
 "cells": [
  {
   "cell_type": "code",
   "execution_count": 6,
   "metadata": {},
   "outputs": [],
   "source": [
    "import numpy as np\n",
    "import pandas as pd\n",
    "import matplotlib.pyplot as plt\n",
    "import random\n",
    "from sklearn.model_selection import train_test_split\n",
    "from sklearn.preprocessing import StandardScaler\n",
    "from sklearn.linear_model import LinearRegression\n",
    "from sklearn.metrics import mean_squared_error"
   ]
  },
  {
   "cell_type": "code",
   "execution_count": 2,
   "metadata": {},
   "outputs": [],
   "source": [
    "# Read in data\n",
    "jdata = pd.read_csv('josiah_final_data.csv')\n",
    "\n",
    "# remove timestamp\n",
    "jdata_feat = jdata.drop(columns=['timestamp'])\n",
    "X_train_j, X_val_j = train_test_split(jdata_feat, test_size=0.1)"
   ]
  },
  {
   "cell_type": "code",
   "execution_count": 3,
   "metadata": {},
   "outputs": [],
   "source": [
    "standardizer = StandardScaler().fit(X_train_j)\n",
    "X_train_j_std = standardizer.transform(X_train_j)\n",
    "X_val_j_std = standardizer.transform(X_val_j)"
   ]
  },
  {
   "cell_type": "code",
   "execution_count": 4,
   "metadata": {},
   "outputs": [
    {
     "name": "stdout",
     "output_type": "stream",
     "text": [
      "Standard Deviation of y_train_std: 1.00000\n",
      "Standard Deviation of y_val_std: 1.04442\n"
     ]
    }
   ],
   "source": [
    "# remove response and save\n",
    "y_train_j_std = X_train_j_std[:, -1]\n",
    "X_train_j_std = X_train_j_std[:, :-1]\n",
    "\n",
    "# remove response and save\n",
    "y_val_j_std = X_val_j_std[:, -1]\n",
    "X_val_j_std = X_val_j_std[:, :-1]\n",
    "\n",
    "print(\"Standard Deviation of y_train_std: {:.5f}\".format(y_train_j_std.std()))\n",
    "print(\"Standard Deviation of y_val_std: {:.5f}\".format(y_val_j_std.std()))"
   ]
  },
  {
   "cell_type": "code",
   "execution_count": 9,
   "metadata": {},
   "outputs": [
    {
     "name": "stdout",
     "output_type": "stream",
     "text": [
      "R^2: 0.5594247502547987\n",
      "Validation RMSE: 0.4873035507716034\n"
     ]
    }
   ],
   "source": [
    "reg_model = LinearRegression()\n",
    "reg_model.fit(X_train_j_std, y_train_j_std)\n",
    "print(\"R^2: {}\".format(reg_model.score(X_train_j_std, y_train_j_std)))\n",
    "\n",
    "val_preds = reg_model.predict(X_val_j_std)\n",
    "val_rmse = mean_squared_error(y_val_j_std, val_preds)\n",
    "print(\"Validation RMSE: {}\".format(val_rmse))"
   ]
  }
 ],
 "metadata": {
  "environment": {
   "name": "tf2-2-3-gpu.2-3.m58",
   "type": "gcloud",
   "uri": "gcr.io/deeplearning-platform-release/tf2-2-3-gpu.2-3:m58"
  },
  "kernelspec": {
   "display_name": "Python 3",
   "language": "python",
   "name": "python3"
  },
  "language_info": {
   "codemirror_mode": {
    "name": "ipython",
    "version": 3
   },
   "file_extension": ".py",
   "mimetype": "text/x-python",
   "name": "python",
   "nbconvert_exporter": "python",
   "pygments_lexer": "ipython3",
   "version": "3.6.5"
  }
 },
 "nbformat": 4,
 "nbformat_minor": 4
}
